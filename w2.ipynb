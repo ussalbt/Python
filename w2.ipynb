{
  "cells": [
    {
      "cell_type": "markdown",
      "metadata": {
        "id": "view-in-github",
        "colab_type": "text"
      },
      "source": [
        "<a href=\"https://colab.research.google.com/github/ussalbt/Python/blob/main/w2.ipynb\" target=\"_parent\"><img src=\"https://colab.research.google.com/assets/colab-badge.svg\" alt=\"Open In Colab\"/></a>"
      ]
    },
    {
      "cell_type": "code",
      "execution_count": 188,
      "metadata": {
        "id": "SkKFzn9eBnmO"
      },
      "outputs": [],
      "source": [
        "## Ignore Warnings\n",
        "import warnings\n",
        "warnings.filterwarnings(\"ignore\")\n",
        "warnings.warn(\"this will not show\")"
      ]
    },
    {
      "cell_type": "code",
      "execution_count": 189,
      "metadata": {
        "id": "YvTiyTHGCK01"
      },
      "outputs": [],
      "source": [
        "import numpy as np\n",
        "import pandas as pd\n",
        "import seaborn as sns\n",
        "import matplotlib.pyplot as plt\n",
        "%matplotlib inline\n",
        "# %matplotlib notebook\n",
        "plt.rcParams[\"figure.figsize\"] = (10,6)\n",
        "# plt.rcParams['figure.dpi'] = 100\n",
        "sns.set_style(\"whitegrid\")\n",
        "pd.set_option('display.float_format', lambda x: '%.3f' % x)\n",
        "pd.options.display.max_rows = 100\n",
        "pd.options.display.max_columns = 100"
      ]
    },
    {
      "cell_type": "code",
      "execution_count": 190,
      "metadata": {
        "id": "zPDezI8MCOno"
      },
      "outputs": [],
      "source": [
        "df = pd.read_json ('/content/sample_data/scout_car.json', lines = True)"
      ]
    },
    {
      "cell_type": "code",
      "execution_count": 191,
      "metadata": {
        "colab": {
          "base_uri": "https://localhost:8080/"
        },
        "id": "ZSfNSwj1FX0m",
        "outputId": "db840e15-16ad-401c-c692-a8660a51cf10"
      },
      "outputs": [
        {
          "output_type": "execute_result",
          "data": {
            "text/plain": [
              "Index(['url', 'make_model', 'short_description', 'body_type', 'price', 'vat',\n",
              "       'km', 'registration', 'prev_owner', 'kw', 'hp', 'type',\n",
              "       'previous_owners', 'next_inspection', 'inspection_new', 'warranty',\n",
              "       'full_service', 'non-smoking_vehicle', 'null', 'make', 'model',\n",
              "       'offer_number', 'first_registration', 'body_color', 'paint_type',\n",
              "       'body_color_original', 'upholstery', 'body', 'nr._of_doors',\n",
              "       'nr._of_seats', 'model_code', 'gearing_type', 'displacement',\n",
              "       'cylinders', 'weight', 'drive_chain', 'fuel', 'consumption',\n",
              "       'co2_emission', 'emission_class', 'comfort&convenience',\n",
              "       'entertainment&media', 'extras', 'safety&security', 'description',\n",
              "       'emission_label', 'gears', 'country_version', 'electricity_consumption',\n",
              "       'last_service_date', 'other_fuel_types', 'availability',\n",
              "       'last_timing_belt_service_date', 'available_from'],\n",
              "      dtype='object')"
            ]
          },
          "metadata": {},
          "execution_count": 191
        }
      ],
      "source": [
        "df.columns = df.columns.str.lower().str.replace(\"\\n\",\"\").str.replace(\" & \",\"&\").str.replace(\" \",\"_\")\n",
        "df.columns"
      ]
    },
    {
      "cell_type": "code",
      "execution_count": 192,
      "metadata": {
        "id": "P11cm6epFmOi",
        "colab": {
          "base_uri": "https://localhost:8080/",
          "height": 1000
        },
        "outputId": "6ce154ba-a24b-44fe-bf2a-631efc5a69b5"
      },
      "outputs": [
        {
          "output_type": "execute_result",
          "data": {
            "text/plain": [
              "                                                                               0  \\\n",
              "url                            https://www.autoscout24.com//offers/audi-a1-sp...   \n",
              "make_model                                                               Audi A1   \n",
              "short_description                    Sportback 1.4 TDI S-tronic Xenon Navi Klima   \n",
              "body_type                                                                 Sedans   \n",
              "price                                                                      15770   \n",
              "vat                                                               VAT deductible   \n",
              "km                                                                     56,013 km   \n",
              "registration                                                             01/2016   \n",
              "prev_owner                                                     2 previous owners   \n",
              "kw                                                                           NaN   \n",
              "hp                                                                         66 kW   \n",
              "type                                     [, Used, , Diesel (Particulate Filter)]   \n",
              "previous_owners                                                            \\n2\\n   \n",
              "next_inspection                            [\\n06/2021\\n, \\n99 g CO2/km (comb)\\n]   \n",
              "inspection_new                                             [\\nYes\\n, \\nEuro 6\\n]   \n",
              "warranty                                                 [\\n, \\n, \\n4 (Green)\\n]   \n",
              "full_service                                                            [\\n, \\n]   \n",
              "non-smoking_vehicle                                                     [\\n, \\n]   \n",
              "null                                                                          []   \n",
              "make                                                                    \\nAudi\\n   \n",
              "model                                                               [\\n, A1, \\n]   \n",
              "offer_number                                                     [\\nLR-062483\\n]   \n",
              "first_registration                                                [\\n, 2016, \\n]   \n",
              "body_color                                                       [\\n, Black, \\n]   \n",
              "paint_type                                                        [\\nMetallic\\n]   \n",
              "body_color_original                                          [\\nMythosschwarz\\n]   \n",
              "upholstery                                                    [\\nCloth, Black\\n]   \n",
              "body                                                            [\\n, Sedans, \\n]   \n",
              "nr._of_doors                                                             [\\n5\\n]   \n",
              "nr._of_seats                                                             [\\n5\\n]   \n",
              "model_code                                                        [\\n0588/BDF\\n]   \n",
              "gearing_type                                                 [\\n, Automatic, \\n]   \n",
              "displacement                                                      [\\n1,422 cc\\n]   \n",
              "cylinders                                                                [\\n3\\n]   \n",
              "weight                                                            [\\n1,220 kg\\n]   \n",
              "drive_chain                                                          [\\nfront\\n]   \n",
              "fuel                                       [\\n, Diesel (Particulate Filter), \\n]   \n",
              "consumption                    [[3.8 l/100 km (comb)], [4.3 l/100 km (city)],...   \n",
              "co2_emission                                            [\\n99 g CO2/km (comb)\\n]   \n",
              "emission_class                                                      [\\nEuro 6\\n]   \n",
              "comfort&convenience            [Air conditioning, Armrest, Automatic climate ...   \n",
              "entertainment&media            [Bluetooth, Hands-free equipment, On-board com...   \n",
              "extras                         [Alloy wheels, Catalytic Converter, Voice Cont...   \n",
              "safety&security                [ABS, Central door lock, Daytime running light...   \n",
              "description                    [\\n, Sicherheit:,  , Deaktivierung für Beifahr...   \n",
              "emission_label                                                               NaN   \n",
              "gears                                                                        NaN   \n",
              "country_version                                                              NaN   \n",
              "electricity_consumption                                                      NaN   \n",
              "last_service_date                                                            NaN   \n",
              "other_fuel_types                                                             NaN   \n",
              "availability                                                                 NaN   \n",
              "last_timing_belt_service_date                                                NaN   \n",
              "available_from                                                               NaN   \n",
              "\n",
              "                                                                               1  \\\n",
              "url                            https://www.autoscout24.com//offers/audi-a1-1-...   \n",
              "make_model                                                               Audi A1   \n",
              "short_description                                                 1.8 TFSI sport   \n",
              "body_type                                                                 Sedans   \n",
              "price                                                                      14500   \n",
              "vat                                                             Price negotiable   \n",
              "km                                                                     80,000 km   \n",
              "registration                                                             03/2017   \n",
              "prev_owner                                                                  None   \n",
              "kw                                                                           NaN   \n",
              "hp                                                                        141 kW   \n",
              "type                                                        [, Used, , Gasoline]   \n",
              "previous_owners                                                              NaN   \n",
              "next_inspection                                                              NaN   \n",
              "inspection_new                                                               NaN   \n",
              "warranty                                                                     NaN   \n",
              "full_service                                                                 NaN   \n",
              "non-smoking_vehicle                                                          NaN   \n",
              "null                                                                          []   \n",
              "make                                                                    \\nAudi\\n   \n",
              "model                                                               [\\n, A1, \\n]   \n",
              "offer_number                                                                 NaN   \n",
              "first_registration                                                [\\n, 2017, \\n]   \n",
              "body_color                                                         [\\n, Red, \\n]   \n",
              "paint_type                                                                   NaN   \n",
              "body_color_original                                                          NaN   \n",
              "upholstery                                                     [\\nCloth, Grey\\n]   \n",
              "body                                                            [\\n, Sedans, \\n]   \n",
              "nr._of_doors                                                             [\\n3\\n]   \n",
              "nr._of_seats                                                             [\\n4\\n]   \n",
              "model_code                                                        [\\n0588/BCY\\n]   \n",
              "gearing_type                                                 [\\n, Automatic, \\n]   \n",
              "displacement                                                      [\\n1,798 cc\\n]   \n",
              "cylinders                                                                [\\n4\\n]   \n",
              "weight                                                            [\\n1,255 kg\\n]   \n",
              "drive_chain                                                          [\\nfront\\n]   \n",
              "fuel                                                          [\\n, Gasoline, \\n]   \n",
              "consumption                    [[5.6 l/100 km (comb)], [7.1 l/100 km (city)],...   \n",
              "co2_emission                                           [\\n129 g CO2/km (comb)\\n]   \n",
              "emission_class                                                      [\\nEuro 6\\n]   \n",
              "comfort&convenience            [Air conditioning, Automatic climate control, ...   \n",
              "entertainment&media            [Bluetooth, Hands-free equipment, On-board com...   \n",
              "extras                         [Alloy wheels, Sport seats, Sport suspension, ...   \n",
              "safety&security                [ABS, Central door lock, Central door lock wit...   \n",
              "description                    [\\nLangstreckenfahrzeug daher die hohe Kilomet...   \n",
              "emission_label                                                   [\\n4 (Green)\\n]   \n",
              "gears                                                                    [\\n7\\n]   \n",
              "country_version                                                              NaN   \n",
              "electricity_consumption                                                      NaN   \n",
              "last_service_date                                                            NaN   \n",
              "other_fuel_types                                                             NaN   \n",
              "availability                                                                 NaN   \n",
              "last_timing_belt_service_date                                                NaN   \n",
              "available_from                                                               NaN   \n",
              "\n",
              "                                                                               2  \\\n",
              "url                            https://www.autoscout24.com//offers/audi-a1-sp...   \n",
              "make_model                                                               Audi A1   \n",
              "short_description              Sportback 1.6 TDI S tronic Einparkhilfe plus+m...   \n",
              "body_type                                                                 Sedans   \n",
              "price                                                                      14640   \n",
              "vat                                                               VAT deductible   \n",
              "km                                                                     83,450 km   \n",
              "registration                                                             02/2016   \n",
              "prev_owner                                                      1 previous owner   \n",
              "kw                                                                           NaN   \n",
              "hp                                                                         85 kW   \n",
              "type                                     [, Used, , Diesel (Particulate Filter)]   \n",
              "previous_owners                                                            \\n1\\n   \n",
              "next_inspection                                                              NaN   \n",
              "inspection_new                                                               NaN   \n",
              "warranty                                        [\\n, \\n, \\n99 g CO2/km (comb)\\n]   \n",
              "full_service                                                                 NaN   \n",
              "non-smoking_vehicle                                                          NaN   \n",
              "null                                                                          []   \n",
              "make                                                                    \\nAudi\\n   \n",
              "model                                                               [\\n, A1, \\n]   \n",
              "offer_number                                                      [\\nAM-95365\\n]   \n",
              "first_registration                                                [\\n, 2016, \\n]   \n",
              "body_color                                                       [\\n, Black, \\n]   \n",
              "paint_type                                                        [\\nMetallic\\n]   \n",
              "body_color_original                                 [\\nmythosschwarz metallic\\n]   \n",
              "upholstery                                                    [\\nCloth, Black\\n]   \n",
              "body                                                            [\\n, Sedans, \\n]   \n",
              "nr._of_doors                                                             [\\n4\\n]   \n",
              "nr._of_seats                                                             [\\n4\\n]   \n",
              "model_code                                                                   NaN   \n",
              "gearing_type                                                 [\\n, Automatic, \\n]   \n",
              "displacement                                                      [\\n1,598 cc\\n]   \n",
              "cylinders                                                                    NaN   \n",
              "weight                                                                       NaN   \n",
              "drive_chain                                                          [\\nfront\\n]   \n",
              "fuel                                       [\\n, Diesel (Particulate Filter), \\n]   \n",
              "consumption                    [[3.8 l/100 km (comb)], [4.4 l/100 km (city)],...   \n",
              "co2_emission                                            [\\n99 g CO2/km (comb)\\n]   \n",
              "emission_class                                                      [\\nEuro 6\\n]   \n",
              "comfort&convenience            [Air conditioning, Cruise control, Electrical ...   \n",
              "entertainment&media                                     [MP3, On-board computer]   \n",
              "extras                                             [Alloy wheels, Voice Control]   \n",
              "safety&security                [ABS, Central door lock, Daytime running light...   \n",
              "description                    [\\n, Fahrzeug-Nummer: AM-95365,  , Ehem. UPE 2...   \n",
              "emission_label                                                   [\\n4 (Green)\\n]   \n",
              "gears                                                                        NaN   \n",
              "country_version                                                              NaN   \n",
              "electricity_consumption                                                      NaN   \n",
              "last_service_date                                                            NaN   \n",
              "other_fuel_types                                                             NaN   \n",
              "availability                                                                 NaN   \n",
              "last_timing_belt_service_date                                                NaN   \n",
              "available_from                                                               NaN   \n",
              "\n",
              "                                                                               3  \\\n",
              "url                            https://www.autoscout24.com//offers/audi-a1-1-...   \n",
              "make_model                                                               Audi A1   \n",
              "short_description                                        1.4 TDi Design S tronic   \n",
              "body_type                                                                 Sedans   \n",
              "price                                                                      14500   \n",
              "vat                                                                         None   \n",
              "km                                                                     73,000 km   \n",
              "registration                                                             08/2016   \n",
              "prev_owner                                                      1 previous owner   \n",
              "kw                                                                           NaN   \n",
              "hp                                                                         66 kW   \n",
              "type                                     [, Used, , Diesel (Particulate Filter)]   \n",
              "previous_owners                                                            \\n1\\n   \n",
              "next_inspection                                                              NaN   \n",
              "inspection_new                                                               NaN   \n",
              "warranty                                                                     NaN   \n",
              "full_service                                    [\\n, \\n, \\n99 g CO2/km (comb)\\n]   \n",
              "non-smoking_vehicle                                         [\\n, \\n, \\nEuro 6\\n]   \n",
              "null                                                                          []   \n",
              "make                                                                    \\nAudi\\n   \n",
              "model                                                               [\\n, A1, \\n]   \n",
              "offer_number                                                                 NaN   \n",
              "first_registration                                                [\\n, 2016, \\n]   \n",
              "body_color                                                       [\\n, Brown, \\n]   \n",
              "paint_type                                                        [\\nMetallic\\n]   \n",
              "body_color_original                                                          NaN   \n",
              "upholstery                                                                   NaN   \n",
              "body                                                            [\\n, Sedans, \\n]   \n",
              "nr._of_doors                                                             [\\n3\\n]   \n",
              "nr._of_seats                                                             [\\n4\\n]   \n",
              "model_code                                                                   NaN   \n",
              "gearing_type                                                 [\\n, Automatic, \\n]   \n",
              "displacement                                                      [\\n1,422 cc\\n]   \n",
              "cylinders                                                                [\\n3\\n]   \n",
              "weight                                                            [\\n1,195 kg\\n]   \n",
              "drive_chain                                                                  NaN   \n",
              "fuel                                       [\\n, Diesel (Particulate Filter), \\n]   \n",
              "consumption                    [[3.8 l/100 km (comb)], [4.3 l/100 km (city)],...   \n",
              "co2_emission                                            [\\n99 g CO2/km (comb)\\n]   \n",
              "emission_class                                                      [\\nEuro 6\\n]   \n",
              "comfort&convenience            [Air suspension, Armrest, Auxiliary heating, E...   \n",
              "entertainment&media            [Bluetooth, CD player, Hands-free equipment, M...   \n",
              "extras                                [Alloy wheels, Sport seats, Voice Control]   \n",
              "safety&security                [ABS, Alarm system, Central door lock with rem...   \n",
              "description                    [\\nAudi A1: , - 1e eigenaar , - Perfecte staat...   \n",
              "emission_label                                                               NaN   \n",
              "gears                                                                    [\\n6\\n]   \n",
              "country_version                                                              NaN   \n",
              "electricity_consumption                                                      NaN   \n",
              "last_service_date                                                            NaN   \n",
              "other_fuel_types                                                             NaN   \n",
              "availability                                                                 NaN   \n",
              "last_timing_belt_service_date                                                NaN   \n",
              "available_from                                                               NaN   \n",
              "\n",
              "                                                                               4  \n",
              "url                            https://www.autoscout24.com//offers/audi-a1-sp...  \n",
              "make_model                                                               Audi A1  \n",
              "short_description              Sportback 1.4 TDI S-Tronic S-Line Ext. admired...  \n",
              "body_type                                                                 Sedans  \n",
              "price                                                                      16790  \n",
              "vat                                                                         None  \n",
              "km                                                                     16,200 km  \n",
              "registration                                                             05/2016  \n",
              "prev_owner                                                      1 previous owner  \n",
              "kw                                                                           NaN  \n",
              "hp                                                                         66 kW  \n",
              "type                                     [, Used, , Diesel (Particulate Filter)]  \n",
              "previous_owners                                                            \\n1\\n  \n",
              "next_inspection                                                              NaN  \n",
              "inspection_new                                [\\nYes\\n, \\n109 g CO2/km (comb)\\n]  \n",
              "warranty                                                    [\\n, \\n, \\nEuro 6\\n]  \n",
              "full_service                                             [\\n, \\n, \\n4 (Green)\\n]  \n",
              "non-smoking_vehicle                                                     [\\n, \\n]  \n",
              "null                                                                          []  \n",
              "make                                                                    \\nAudi\\n  \n",
              "model                                                               [\\n, A1, \\n]  \n",
              "offer_number                                                         [\\nC1626\\n]  \n",
              "first_registration                                                [\\n, 2016, \\n]  \n",
              "body_color                                                       [\\n, Black, \\n]  \n",
              "paint_type                                                        [\\nMetallic\\n]  \n",
              "body_color_original                                 [\\nMythosschwarz Metallic\\n]  \n",
              "upholstery                                                    [\\nCloth, Black\\n]  \n",
              "body                                                            [\\n, Sedans, \\n]  \n",
              "nr._of_doors                                                             [\\n5\\n]  \n",
              "nr._of_seats                                                             [\\n5\\n]  \n",
              "model_code                                                        [\\n0588/BDF\\n]  \n",
              "gearing_type                                                 [\\n, Automatic, \\n]  \n",
              "displacement                                                      [\\n1,422 cc\\n]  \n",
              "cylinders                                                                [\\n3\\n]  \n",
              "weight                                                                       NaN  \n",
              "drive_chain                                                          [\\nfront\\n]  \n",
              "fuel                                       [\\n, Diesel (Particulate Filter), \\n]  \n",
              "consumption                    [[4.1 l/100 km (comb)], [4.6 l/100 km (city)],...  \n",
              "co2_emission                                           [\\n109 g CO2/km (comb)\\n]  \n",
              "emission_class                                                      [\\nEuro 6\\n]  \n",
              "comfort&convenience            [Air conditioning, Armrest, Automatic climate ...  \n",
              "entertainment&media            [Bluetooth, CD player, Hands-free equipment, M...  \n",
              "extras                         [Alloy wheels, Sport package, Sport suspension...  \n",
              "safety&security                [ABS, Central door lock, Driver-side airbag, E...  \n",
              "description                    [\\n, Technik & Sicherheit:, Xenon plus, Klimaa...  \n",
              "emission_label                                                               NaN  \n",
              "gears                                                                        NaN  \n",
              "country_version                                                    [\\nGermany\\n]  \n",
              "electricity_consumption                                                      NaN  \n",
              "last_service_date                                                            NaN  \n",
              "other_fuel_types                                                             NaN  \n",
              "availability                                                                 NaN  \n",
              "last_timing_belt_service_date                                                NaN  \n",
              "available_from                                                               NaN  "
            ],
            "text/html": [
              "\n",
              "  <div id=\"df-2e588aa7-1ea9-4588-b4f0-155f26a0f9c3\">\n",
              "    <div class=\"colab-df-container\">\n",
              "      <div>\n",
              "<style scoped>\n",
              "    .dataframe tbody tr th:only-of-type {\n",
              "        vertical-align: middle;\n",
              "    }\n",
              "\n",
              "    .dataframe tbody tr th {\n",
              "        vertical-align: top;\n",
              "    }\n",
              "\n",
              "    .dataframe thead th {\n",
              "        text-align: right;\n",
              "    }\n",
              "</style>\n",
              "<table border=\"1\" class=\"dataframe\">\n",
              "  <thead>\n",
              "    <tr style=\"text-align: right;\">\n",
              "      <th></th>\n",
              "      <th>0</th>\n",
              "      <th>1</th>\n",
              "      <th>2</th>\n",
              "      <th>3</th>\n",
              "      <th>4</th>\n",
              "    </tr>\n",
              "  </thead>\n",
              "  <tbody>\n",
              "    <tr>\n",
              "      <th>url</th>\n",
              "      <td>https://www.autoscout24.com//offers/audi-a1-sp...</td>\n",
              "      <td>https://www.autoscout24.com//offers/audi-a1-1-...</td>\n",
              "      <td>https://www.autoscout24.com//offers/audi-a1-sp...</td>\n",
              "      <td>https://www.autoscout24.com//offers/audi-a1-1-...</td>\n",
              "      <td>https://www.autoscout24.com//offers/audi-a1-sp...</td>\n",
              "    </tr>\n",
              "    <tr>\n",
              "      <th>make_model</th>\n",
              "      <td>Audi A1</td>\n",
              "      <td>Audi A1</td>\n",
              "      <td>Audi A1</td>\n",
              "      <td>Audi A1</td>\n",
              "      <td>Audi A1</td>\n",
              "    </tr>\n",
              "    <tr>\n",
              "      <th>short_description</th>\n",
              "      <td>Sportback 1.4 TDI S-tronic Xenon Navi Klima</td>\n",
              "      <td>1.8 TFSI sport</td>\n",
              "      <td>Sportback 1.6 TDI S tronic Einparkhilfe plus+m...</td>\n",
              "      <td>1.4 TDi Design S tronic</td>\n",
              "      <td>Sportback 1.4 TDI S-Tronic S-Line Ext. admired...</td>\n",
              "    </tr>\n",
              "    <tr>\n",
              "      <th>body_type</th>\n",
              "      <td>Sedans</td>\n",
              "      <td>Sedans</td>\n",
              "      <td>Sedans</td>\n",
              "      <td>Sedans</td>\n",
              "      <td>Sedans</td>\n",
              "    </tr>\n",
              "    <tr>\n",
              "      <th>price</th>\n",
              "      <td>15770</td>\n",
              "      <td>14500</td>\n",
              "      <td>14640</td>\n",
              "      <td>14500</td>\n",
              "      <td>16790</td>\n",
              "    </tr>\n",
              "    <tr>\n",
              "      <th>vat</th>\n",
              "      <td>VAT deductible</td>\n",
              "      <td>Price negotiable</td>\n",
              "      <td>VAT deductible</td>\n",
              "      <td>None</td>\n",
              "      <td>None</td>\n",
              "    </tr>\n",
              "    <tr>\n",
              "      <th>km</th>\n",
              "      <td>56,013 km</td>\n",
              "      <td>80,000 km</td>\n",
              "      <td>83,450 km</td>\n",
              "      <td>73,000 km</td>\n",
              "      <td>16,200 km</td>\n",
              "    </tr>\n",
              "    <tr>\n",
              "      <th>registration</th>\n",
              "      <td>01/2016</td>\n",
              "      <td>03/2017</td>\n",
              "      <td>02/2016</td>\n",
              "      <td>08/2016</td>\n",
              "      <td>05/2016</td>\n",
              "    </tr>\n",
              "    <tr>\n",
              "      <th>prev_owner</th>\n",
              "      <td>2 previous owners</td>\n",
              "      <td>None</td>\n",
              "      <td>1 previous owner</td>\n",
              "      <td>1 previous owner</td>\n",
              "      <td>1 previous owner</td>\n",
              "    </tr>\n",
              "    <tr>\n",
              "      <th>kw</th>\n",
              "      <td>NaN</td>\n",
              "      <td>NaN</td>\n",
              "      <td>NaN</td>\n",
              "      <td>NaN</td>\n",
              "      <td>NaN</td>\n",
              "    </tr>\n",
              "    <tr>\n",
              "      <th>hp</th>\n",
              "      <td>66 kW</td>\n",
              "      <td>141 kW</td>\n",
              "      <td>85 kW</td>\n",
              "      <td>66 kW</td>\n",
              "      <td>66 kW</td>\n",
              "    </tr>\n",
              "    <tr>\n",
              "      <th>type</th>\n",
              "      <td>[, Used, , Diesel (Particulate Filter)]</td>\n",
              "      <td>[, Used, , Gasoline]</td>\n",
              "      <td>[, Used, , Diesel (Particulate Filter)]</td>\n",
              "      <td>[, Used, , Diesel (Particulate Filter)]</td>\n",
              "      <td>[, Used, , Diesel (Particulate Filter)]</td>\n",
              "    </tr>\n",
              "    <tr>\n",
              "      <th>previous_owners</th>\n",
              "      <td>\\n2\\n</td>\n",
              "      <td>NaN</td>\n",
              "      <td>\\n1\\n</td>\n",
              "      <td>\\n1\\n</td>\n",
              "      <td>\\n1\\n</td>\n",
              "    </tr>\n",
              "    <tr>\n",
              "      <th>next_inspection</th>\n",
              "      <td>[\\n06/2021\\n, \\n99 g CO2/km (comb)\\n]</td>\n",
              "      <td>NaN</td>\n",
              "      <td>NaN</td>\n",
              "      <td>NaN</td>\n",
              "      <td>NaN</td>\n",
              "    </tr>\n",
              "    <tr>\n",
              "      <th>inspection_new</th>\n",
              "      <td>[\\nYes\\n, \\nEuro 6\\n]</td>\n",
              "      <td>NaN</td>\n",
              "      <td>NaN</td>\n",
              "      <td>NaN</td>\n",
              "      <td>[\\nYes\\n, \\n109 g CO2/km (comb)\\n]</td>\n",
              "    </tr>\n",
              "    <tr>\n",
              "      <th>warranty</th>\n",
              "      <td>[\\n, \\n, \\n4 (Green)\\n]</td>\n",
              "      <td>NaN</td>\n",
              "      <td>[\\n, \\n, \\n99 g CO2/km (comb)\\n]</td>\n",
              "      <td>NaN</td>\n",
              "      <td>[\\n, \\n, \\nEuro 6\\n]</td>\n",
              "    </tr>\n",
              "    <tr>\n",
              "      <th>full_service</th>\n",
              "      <td>[\\n, \\n]</td>\n",
              "      <td>NaN</td>\n",
              "      <td>NaN</td>\n",
              "      <td>[\\n, \\n, \\n99 g CO2/km (comb)\\n]</td>\n",
              "      <td>[\\n, \\n, \\n4 (Green)\\n]</td>\n",
              "    </tr>\n",
              "    <tr>\n",
              "      <th>non-smoking_vehicle</th>\n",
              "      <td>[\\n, \\n]</td>\n",
              "      <td>NaN</td>\n",
              "      <td>NaN</td>\n",
              "      <td>[\\n, \\n, \\nEuro 6\\n]</td>\n",
              "      <td>[\\n, \\n]</td>\n",
              "    </tr>\n",
              "    <tr>\n",
              "      <th>null</th>\n",
              "      <td>[]</td>\n",
              "      <td>[]</td>\n",
              "      <td>[]</td>\n",
              "      <td>[]</td>\n",
              "      <td>[]</td>\n",
              "    </tr>\n",
              "    <tr>\n",
              "      <th>make</th>\n",
              "      <td>\\nAudi\\n</td>\n",
              "      <td>\\nAudi\\n</td>\n",
              "      <td>\\nAudi\\n</td>\n",
              "      <td>\\nAudi\\n</td>\n",
              "      <td>\\nAudi\\n</td>\n",
              "    </tr>\n",
              "    <tr>\n",
              "      <th>model</th>\n",
              "      <td>[\\n, A1, \\n]</td>\n",
              "      <td>[\\n, A1, \\n]</td>\n",
              "      <td>[\\n, A1, \\n]</td>\n",
              "      <td>[\\n, A1, \\n]</td>\n",
              "      <td>[\\n, A1, \\n]</td>\n",
              "    </tr>\n",
              "    <tr>\n",
              "      <th>offer_number</th>\n",
              "      <td>[\\nLR-062483\\n]</td>\n",
              "      <td>NaN</td>\n",
              "      <td>[\\nAM-95365\\n]</td>\n",
              "      <td>NaN</td>\n",
              "      <td>[\\nC1626\\n]</td>\n",
              "    </tr>\n",
              "    <tr>\n",
              "      <th>first_registration</th>\n",
              "      <td>[\\n, 2016, \\n]</td>\n",
              "      <td>[\\n, 2017, \\n]</td>\n",
              "      <td>[\\n, 2016, \\n]</td>\n",
              "      <td>[\\n, 2016, \\n]</td>\n",
              "      <td>[\\n, 2016, \\n]</td>\n",
              "    </tr>\n",
              "    <tr>\n",
              "      <th>body_color</th>\n",
              "      <td>[\\n, Black, \\n]</td>\n",
              "      <td>[\\n, Red, \\n]</td>\n",
              "      <td>[\\n, Black, \\n]</td>\n",
              "      <td>[\\n, Brown, \\n]</td>\n",
              "      <td>[\\n, Black, \\n]</td>\n",
              "    </tr>\n",
              "    <tr>\n",
              "      <th>paint_type</th>\n",
              "      <td>[\\nMetallic\\n]</td>\n",
              "      <td>NaN</td>\n",
              "      <td>[\\nMetallic\\n]</td>\n",
              "      <td>[\\nMetallic\\n]</td>\n",
              "      <td>[\\nMetallic\\n]</td>\n",
              "    </tr>\n",
              "    <tr>\n",
              "      <th>body_color_original</th>\n",
              "      <td>[\\nMythosschwarz\\n]</td>\n",
              "      <td>NaN</td>\n",
              "      <td>[\\nmythosschwarz metallic\\n]</td>\n",
              "      <td>NaN</td>\n",
              "      <td>[\\nMythosschwarz Metallic\\n]</td>\n",
              "    </tr>\n",
              "    <tr>\n",
              "      <th>upholstery</th>\n",
              "      <td>[\\nCloth, Black\\n]</td>\n",
              "      <td>[\\nCloth, Grey\\n]</td>\n",
              "      <td>[\\nCloth, Black\\n]</td>\n",
              "      <td>NaN</td>\n",
              "      <td>[\\nCloth, Black\\n]</td>\n",
              "    </tr>\n",
              "    <tr>\n",
              "      <th>body</th>\n",
              "      <td>[\\n, Sedans, \\n]</td>\n",
              "      <td>[\\n, Sedans, \\n]</td>\n",
              "      <td>[\\n, Sedans, \\n]</td>\n",
              "      <td>[\\n, Sedans, \\n]</td>\n",
              "      <td>[\\n, Sedans, \\n]</td>\n",
              "    </tr>\n",
              "    <tr>\n",
              "      <th>nr._of_doors</th>\n",
              "      <td>[\\n5\\n]</td>\n",
              "      <td>[\\n3\\n]</td>\n",
              "      <td>[\\n4\\n]</td>\n",
              "      <td>[\\n3\\n]</td>\n",
              "      <td>[\\n5\\n]</td>\n",
              "    </tr>\n",
              "    <tr>\n",
              "      <th>nr._of_seats</th>\n",
              "      <td>[\\n5\\n]</td>\n",
              "      <td>[\\n4\\n]</td>\n",
              "      <td>[\\n4\\n]</td>\n",
              "      <td>[\\n4\\n]</td>\n",
              "      <td>[\\n5\\n]</td>\n",
              "    </tr>\n",
              "    <tr>\n",
              "      <th>model_code</th>\n",
              "      <td>[\\n0588/BDF\\n]</td>\n",
              "      <td>[\\n0588/BCY\\n]</td>\n",
              "      <td>NaN</td>\n",
              "      <td>NaN</td>\n",
              "      <td>[\\n0588/BDF\\n]</td>\n",
              "    </tr>\n",
              "    <tr>\n",
              "      <th>gearing_type</th>\n",
              "      <td>[\\n, Automatic, \\n]</td>\n",
              "      <td>[\\n, Automatic, \\n]</td>\n",
              "      <td>[\\n, Automatic, \\n]</td>\n",
              "      <td>[\\n, Automatic, \\n]</td>\n",
              "      <td>[\\n, Automatic, \\n]</td>\n",
              "    </tr>\n",
              "    <tr>\n",
              "      <th>displacement</th>\n",
              "      <td>[\\n1,422 cc\\n]</td>\n",
              "      <td>[\\n1,798 cc\\n]</td>\n",
              "      <td>[\\n1,598 cc\\n]</td>\n",
              "      <td>[\\n1,422 cc\\n]</td>\n",
              "      <td>[\\n1,422 cc\\n]</td>\n",
              "    </tr>\n",
              "    <tr>\n",
              "      <th>cylinders</th>\n",
              "      <td>[\\n3\\n]</td>\n",
              "      <td>[\\n4\\n]</td>\n",
              "      <td>NaN</td>\n",
              "      <td>[\\n3\\n]</td>\n",
              "      <td>[\\n3\\n]</td>\n",
              "    </tr>\n",
              "    <tr>\n",
              "      <th>weight</th>\n",
              "      <td>[\\n1,220 kg\\n]</td>\n",
              "      <td>[\\n1,255 kg\\n]</td>\n",
              "      <td>NaN</td>\n",
              "      <td>[\\n1,195 kg\\n]</td>\n",
              "      <td>NaN</td>\n",
              "    </tr>\n",
              "    <tr>\n",
              "      <th>drive_chain</th>\n",
              "      <td>[\\nfront\\n]</td>\n",
              "      <td>[\\nfront\\n]</td>\n",
              "      <td>[\\nfront\\n]</td>\n",
              "      <td>NaN</td>\n",
              "      <td>[\\nfront\\n]</td>\n",
              "    </tr>\n",
              "    <tr>\n",
              "      <th>fuel</th>\n",
              "      <td>[\\n, Diesel (Particulate Filter), \\n]</td>\n",
              "      <td>[\\n, Gasoline, \\n]</td>\n",
              "      <td>[\\n, Diesel (Particulate Filter), \\n]</td>\n",
              "      <td>[\\n, Diesel (Particulate Filter), \\n]</td>\n",
              "      <td>[\\n, Diesel (Particulate Filter), \\n]</td>\n",
              "    </tr>\n",
              "    <tr>\n",
              "      <th>consumption</th>\n",
              "      <td>[[3.8 l/100 km (comb)], [4.3 l/100 km (city)],...</td>\n",
              "      <td>[[5.6 l/100 km (comb)], [7.1 l/100 km (city)],...</td>\n",
              "      <td>[[3.8 l/100 km (comb)], [4.4 l/100 km (city)],...</td>\n",
              "      <td>[[3.8 l/100 km (comb)], [4.3 l/100 km (city)],...</td>\n",
              "      <td>[[4.1 l/100 km (comb)], [4.6 l/100 km (city)],...</td>\n",
              "    </tr>\n",
              "    <tr>\n",
              "      <th>co2_emission</th>\n",
              "      <td>[\\n99 g CO2/km (comb)\\n]</td>\n",
              "      <td>[\\n129 g CO2/km (comb)\\n]</td>\n",
              "      <td>[\\n99 g CO2/km (comb)\\n]</td>\n",
              "      <td>[\\n99 g CO2/km (comb)\\n]</td>\n",
              "      <td>[\\n109 g CO2/km (comb)\\n]</td>\n",
              "    </tr>\n",
              "    <tr>\n",
              "      <th>emission_class</th>\n",
              "      <td>[\\nEuro 6\\n]</td>\n",
              "      <td>[\\nEuro 6\\n]</td>\n",
              "      <td>[\\nEuro 6\\n]</td>\n",
              "      <td>[\\nEuro 6\\n]</td>\n",
              "      <td>[\\nEuro 6\\n]</td>\n",
              "    </tr>\n",
              "    <tr>\n",
              "      <th>comfort&amp;convenience</th>\n",
              "      <td>[Air conditioning, Armrest, Automatic climate ...</td>\n",
              "      <td>[Air conditioning, Automatic climate control, ...</td>\n",
              "      <td>[Air conditioning, Cruise control, Electrical ...</td>\n",
              "      <td>[Air suspension, Armrest, Auxiliary heating, E...</td>\n",
              "      <td>[Air conditioning, Armrest, Automatic climate ...</td>\n",
              "    </tr>\n",
              "    <tr>\n",
              "      <th>entertainment&amp;media</th>\n",
              "      <td>[Bluetooth, Hands-free equipment, On-board com...</td>\n",
              "      <td>[Bluetooth, Hands-free equipment, On-board com...</td>\n",
              "      <td>[MP3, On-board computer]</td>\n",
              "      <td>[Bluetooth, CD player, Hands-free equipment, M...</td>\n",
              "      <td>[Bluetooth, CD player, Hands-free equipment, M...</td>\n",
              "    </tr>\n",
              "    <tr>\n",
              "      <th>extras</th>\n",
              "      <td>[Alloy wheels, Catalytic Converter, Voice Cont...</td>\n",
              "      <td>[Alloy wheels, Sport seats, Sport suspension, ...</td>\n",
              "      <td>[Alloy wheels, Voice Control]</td>\n",
              "      <td>[Alloy wheels, Sport seats, Voice Control]</td>\n",
              "      <td>[Alloy wheels, Sport package, Sport suspension...</td>\n",
              "    </tr>\n",
              "    <tr>\n",
              "      <th>safety&amp;security</th>\n",
              "      <td>[ABS, Central door lock, Daytime running light...</td>\n",
              "      <td>[ABS, Central door lock, Central door lock wit...</td>\n",
              "      <td>[ABS, Central door lock, Daytime running light...</td>\n",
              "      <td>[ABS, Alarm system, Central door lock with rem...</td>\n",
              "      <td>[ABS, Central door lock, Driver-side airbag, E...</td>\n",
              "    </tr>\n",
              "    <tr>\n",
              "      <th>description</th>\n",
              "      <td>[\\n, Sicherheit:,  , Deaktivierung für Beifahr...</td>\n",
              "      <td>[\\nLangstreckenfahrzeug daher die hohe Kilomet...</td>\n",
              "      <td>[\\n, Fahrzeug-Nummer: AM-95365,  , Ehem. UPE 2...</td>\n",
              "      <td>[\\nAudi A1: , - 1e eigenaar , - Perfecte staat...</td>\n",
              "      <td>[\\n, Technik &amp; Sicherheit:, Xenon plus, Klimaa...</td>\n",
              "    </tr>\n",
              "    <tr>\n",
              "      <th>emission_label</th>\n",
              "      <td>NaN</td>\n",
              "      <td>[\\n4 (Green)\\n]</td>\n",
              "      <td>[\\n4 (Green)\\n]</td>\n",
              "      <td>NaN</td>\n",
              "      <td>NaN</td>\n",
              "    </tr>\n",
              "    <tr>\n",
              "      <th>gears</th>\n",
              "      <td>NaN</td>\n",
              "      <td>[\\n7\\n]</td>\n",
              "      <td>NaN</td>\n",
              "      <td>[\\n6\\n]</td>\n",
              "      <td>NaN</td>\n",
              "    </tr>\n",
              "    <tr>\n",
              "      <th>country_version</th>\n",
              "      <td>NaN</td>\n",
              "      <td>NaN</td>\n",
              "      <td>NaN</td>\n",
              "      <td>NaN</td>\n",
              "      <td>[\\nGermany\\n]</td>\n",
              "    </tr>\n",
              "    <tr>\n",
              "      <th>electricity_consumption</th>\n",
              "      <td>NaN</td>\n",
              "      <td>NaN</td>\n",
              "      <td>NaN</td>\n",
              "      <td>NaN</td>\n",
              "      <td>NaN</td>\n",
              "    </tr>\n",
              "    <tr>\n",
              "      <th>last_service_date</th>\n",
              "      <td>NaN</td>\n",
              "      <td>NaN</td>\n",
              "      <td>NaN</td>\n",
              "      <td>NaN</td>\n",
              "      <td>NaN</td>\n",
              "    </tr>\n",
              "    <tr>\n",
              "      <th>other_fuel_types</th>\n",
              "      <td>NaN</td>\n",
              "      <td>NaN</td>\n",
              "      <td>NaN</td>\n",
              "      <td>NaN</td>\n",
              "      <td>NaN</td>\n",
              "    </tr>\n",
              "    <tr>\n",
              "      <th>availability</th>\n",
              "      <td>NaN</td>\n",
              "      <td>NaN</td>\n",
              "      <td>NaN</td>\n",
              "      <td>NaN</td>\n",
              "      <td>NaN</td>\n",
              "    </tr>\n",
              "    <tr>\n",
              "      <th>last_timing_belt_service_date</th>\n",
              "      <td>NaN</td>\n",
              "      <td>NaN</td>\n",
              "      <td>NaN</td>\n",
              "      <td>NaN</td>\n",
              "      <td>NaN</td>\n",
              "    </tr>\n",
              "    <tr>\n",
              "      <th>available_from</th>\n",
              "      <td>NaN</td>\n",
              "      <td>NaN</td>\n",
              "      <td>NaN</td>\n",
              "      <td>NaN</td>\n",
              "      <td>NaN</td>\n",
              "    </tr>\n",
              "  </tbody>\n",
              "</table>\n",
              "</div>\n",
              "      <button class=\"colab-df-convert\" onclick=\"convertToInteractive('df-2e588aa7-1ea9-4588-b4f0-155f26a0f9c3')\"\n",
              "              title=\"Convert this dataframe to an interactive table.\"\n",
              "              style=\"display:none;\">\n",
              "        \n",
              "  <svg xmlns=\"http://www.w3.org/2000/svg\" height=\"24px\"viewBox=\"0 0 24 24\"\n",
              "       width=\"24px\">\n",
              "    <path d=\"M0 0h24v24H0V0z\" fill=\"none\"/>\n",
              "    <path d=\"M18.56 5.44l.94 2.06.94-2.06 2.06-.94-2.06-.94-.94-2.06-.94 2.06-2.06.94zm-11 1L8.5 8.5l.94-2.06 2.06-.94-2.06-.94L8.5 2.5l-.94 2.06-2.06.94zm10 10l.94 2.06.94-2.06 2.06-.94-2.06-.94-.94-2.06-.94 2.06-2.06.94z\"/><path d=\"M17.41 7.96l-1.37-1.37c-.4-.4-.92-.59-1.43-.59-.52 0-1.04.2-1.43.59L10.3 9.45l-7.72 7.72c-.78.78-.78 2.05 0 2.83L4 21.41c.39.39.9.59 1.41.59.51 0 1.02-.2 1.41-.59l7.78-7.78 2.81-2.81c.8-.78.8-2.07 0-2.86zM5.41 20L4 18.59l7.72-7.72 1.47 1.35L5.41 20z\"/>\n",
              "  </svg>\n",
              "      </button>\n",
              "      \n",
              "  <style>\n",
              "    .colab-df-container {\n",
              "      display:flex;\n",
              "      flex-wrap:wrap;\n",
              "      gap: 12px;\n",
              "    }\n",
              "\n",
              "    .colab-df-convert {\n",
              "      background-color: #E8F0FE;\n",
              "      border: none;\n",
              "      border-radius: 50%;\n",
              "      cursor: pointer;\n",
              "      display: none;\n",
              "      fill: #1967D2;\n",
              "      height: 32px;\n",
              "      padding: 0 0 0 0;\n",
              "      width: 32px;\n",
              "    }\n",
              "\n",
              "    .colab-df-convert:hover {\n",
              "      background-color: #E2EBFA;\n",
              "      box-shadow: 0px 1px 2px rgba(60, 64, 67, 0.3), 0px 1px 3px 1px rgba(60, 64, 67, 0.15);\n",
              "      fill: #174EA6;\n",
              "    }\n",
              "\n",
              "    [theme=dark] .colab-df-convert {\n",
              "      background-color: #3B4455;\n",
              "      fill: #D2E3FC;\n",
              "    }\n",
              "\n",
              "    [theme=dark] .colab-df-convert:hover {\n",
              "      background-color: #434B5C;\n",
              "      box-shadow: 0px 1px 3px 1px rgba(0, 0, 0, 0.15);\n",
              "      filter: drop-shadow(0px 1px 2px rgba(0, 0, 0, 0.3));\n",
              "      fill: #FFFFFF;\n",
              "    }\n",
              "  </style>\n",
              "\n",
              "      <script>\n",
              "        const buttonEl =\n",
              "          document.querySelector('#df-2e588aa7-1ea9-4588-b4f0-155f26a0f9c3 button.colab-df-convert');\n",
              "        buttonEl.style.display =\n",
              "          google.colab.kernel.accessAllowed ? 'block' : 'none';\n",
              "\n",
              "        async function convertToInteractive(key) {\n",
              "          const element = document.querySelector('#df-2e588aa7-1ea9-4588-b4f0-155f26a0f9c3');\n",
              "          const dataTable =\n",
              "            await google.colab.kernel.invokeFunction('convertToInteractive',\n",
              "                                                     [key], {});\n",
              "          if (!dataTable) return;\n",
              "\n",
              "          const docLinkHtml = 'Like what you see? Visit the ' +\n",
              "            '<a target=\"_blank\" href=https://colab.research.google.com/notebooks/data_table.ipynb>data table notebook</a>'\n",
              "            + ' to learn more about interactive tables.';\n",
              "          element.innerHTML = '';\n",
              "          dataTable['output_type'] = 'display_data';\n",
              "          await google.colab.output.renderOutput(dataTable, element);\n",
              "          const docLink = document.createElement('div');\n",
              "          docLink.innerHTML = docLinkHtml;\n",
              "          element.appendChild(docLink);\n",
              "        }\n",
              "      </script>\n",
              "    </div>\n",
              "  </div>\n",
              "  "
            ]
          },
          "metadata": {},
          "execution_count": 192
        }
      ],
      "source": [
        "df.head().T"
      ]
    },
    {
      "cell_type": "code",
      "execution_count": 193,
      "metadata": {
        "id": "ShLmCO-oHhLN",
        "colab": {
          "base_uri": "https://localhost:8080/"
        },
        "outputId": "2dfec7c7-b9e0-4c7d-ecc9-450d46cee48a"
      },
      "outputs": [
        {
          "output_type": "stream",
          "name": "stdout",
          "text": [
            "<class 'pandas.core.frame.DataFrame'>\n",
            "RangeIndex: 15919 entries, 0 to 15918\n",
            "Data columns (total 54 columns):\n",
            " #   Column                         Non-Null Count  Dtype  \n",
            "---  ------                         --------------  -----  \n",
            " 0   url                            15919 non-null  object \n",
            " 1   make_model                     15919 non-null  object \n",
            " 2   short_description              15873 non-null  object \n",
            " 3   body_type                      15859 non-null  object \n",
            " 4   price                          15919 non-null  int64  \n",
            " 5   vat                            11406 non-null  object \n",
            " 6   km                             15919 non-null  object \n",
            " 7   registration                   15919 non-null  object \n",
            " 8   prev_owner                     9091 non-null   object \n",
            " 9   kw                             0 non-null      float64\n",
            " 10  hp                             15919 non-null  object \n",
            " 11  type                           15917 non-null  object \n",
            " 12  previous_owners                9279 non-null   object \n",
            " 13  next_inspection                3535 non-null   object \n",
            " 14  inspection_new                 3932 non-null   object \n",
            " 15  warranty                       10499 non-null  object \n",
            " 16  full_service                   8215 non-null   object \n",
            " 17  non-smoking_vehicle            7177 non-null   object \n",
            " 18  null                           15919 non-null  object \n",
            " 19  make                           15919 non-null  object \n",
            " 20  model                          15919 non-null  object \n",
            " 21  offer_number                   12744 non-null  object \n",
            " 22  first_registration             14322 non-null  object \n",
            " 23  body_color                     15322 non-null  object \n",
            " 24  paint_type                     10147 non-null  object \n",
            " 25  body_color_original            12160 non-null  object \n",
            " 26  upholstery                     12199 non-null  object \n",
            " 27  body                           15859 non-null  object \n",
            " 28  nr._of_doors                   15707 non-null  object \n",
            " 29  nr._of_seats                   14942 non-null  object \n",
            " 30  model_code                     4978 non-null   object \n",
            " 31  gearing_type                   15919 non-null  object \n",
            " 32  displacement                   15423 non-null  object \n",
            " 33  cylinders                      10239 non-null  object \n",
            " 34  weight                         8945 non-null   object \n",
            " 35  drive_chain                    9061 non-null   object \n",
            " 36  fuel                           15919 non-null  object \n",
            " 37  consumption                    14013 non-null  object \n",
            " 38  co2_emission                   14111 non-null  object \n",
            " 39  emission_class                 12898 non-null  object \n",
            " 40  comfort&convenience            14999 non-null  object \n",
            " 41  entertainment&media            14545 non-null  object \n",
            " 42  extras                         12957 non-null  object \n",
            " 43  safety&security                14937 non-null  object \n",
            " 44  description                    15919 non-null  object \n",
            " 45  emission_label                 3985 non-null   object \n",
            " 46  gears                          11207 non-null  object \n",
            " 47  country_version                7586 non-null   object \n",
            " 48  electricity_consumption        137 non-null    object \n",
            " 49  last_service_date              566 non-null    object \n",
            " 50  other_fuel_types               880 non-null    object \n",
            " 51  availability                   635 non-null    object \n",
            " 52  last_timing_belt_service_date  16 non-null     object \n",
            " 53  available_from                 272 non-null    object \n",
            "dtypes: float64(1), int64(1), object(52)\n",
            "memory usage: 6.6+ MB\n"
          ]
        }
      ],
      "source": [
        "df.info()"
      ]
    },
    {
      "cell_type": "code",
      "execution_count": 194,
      "metadata": {
        "id": "lpzz_69EHlu6",
        "colab": {
          "base_uri": "https://localhost:8080/"
        },
        "outputId": "5fae2842-93d1-4997-ba48-2b57cc5b2ff5"
      },
      "outputs": [
        {
          "output_type": "execute_result",
          "data": {
            "text/plain": [
              "Index(['url', 'make_model', 'short_description', 'body_type', 'price', 'vat',\n",
              "       'km', 'registration', 'prev_owner', 'kw', 'hp', 'type',\n",
              "       'previous_owners', 'next_inspection', 'inspection_new', 'warranty',\n",
              "       'full_service', 'non-smoking_vehicle', 'null', 'make', 'model',\n",
              "       'offer_number', 'first_registration', 'body_color', 'paint_type',\n",
              "       'body_color_original', 'upholstery', 'body', 'nr._of_doors',\n",
              "       'nr._of_seats', 'model_code', 'gearing_type', 'displacement',\n",
              "       'cylinders', 'weight', 'drive_chain', 'fuel', 'consumption',\n",
              "       'co2_emission', 'emission_class', 'comfort&convenience',\n",
              "       'entertainment&media', 'extras', 'safety&security', 'description',\n",
              "       'emission_label', 'gears', 'country_version', 'electricity_consumption',\n",
              "       'last_service_date', 'other_fuel_types', 'availability',\n",
              "       'last_timing_belt_service_date', 'available_from'],\n",
              "      dtype='object')"
            ]
          },
          "metadata": {},
          "execution_count": 194
        }
      ],
      "source": [
        "df.columns"
      ]
    },
    {
      "cell_type": "code",
      "execution_count": 195,
      "metadata": {
        "id": "Pe0IoLTyHsql",
        "colab": {
          "base_uri": "https://localhost:8080/"
        },
        "outputId": "12386040-2285-4106-bde9-9e80aafbbfef"
      },
      "outputs": [
        {
          "output_type": "execute_result",
          "data": {
            "text/plain": [
              "<bound method IndexOpsMixin.value_counts of 0        []\n",
              "1        []\n",
              "2        []\n",
              "3        []\n",
              "4        []\n",
              "         ..\n",
              "15914    []\n",
              "15915    []\n",
              "15916    []\n",
              "15917    []\n",
              "15918    []\n",
              "Name: null, Length: 15919, dtype: object>"
            ]
          },
          "metadata": {},
          "execution_count": 195
        }
      ],
      "source": [
        "df.null.value_counts"
      ]
    },
    {
      "cell_type": "markdown",
      "metadata": {
        "id": "KUQM20EuPzzo"
      },
      "source": [
        "#Kullanımı olmayan sütunları çıkartıyoruz( Null yüzdesi %90 üzerinde olanları çıkartıyoruz)\n",
        "\n"
      ]
    },
    {
      "cell_type": "code",
      "source": [
        "df.isnull().sum()/df.shape[0]*100 \n",
        "\n"
      ],
      "metadata": {
        "colab": {
          "base_uri": "https://localhost:8080/"
        },
        "id": "JMCgTWGS4QBo",
        "outputId": "46f66a76-3cfe-4326-ebac-501e7fd142f2"
      },
      "execution_count": 196,
      "outputs": [
        {
          "output_type": "execute_result",
          "data": {
            "text/plain": [
              "url                               0.000\n",
              "make_model                        0.000\n",
              "short_description                 0.289\n",
              "body_type                         0.377\n",
              "price                             0.000\n",
              "vat                              28.350\n",
              "km                                0.000\n",
              "registration                      0.000\n",
              "prev_owner                       42.892\n",
              "kw                              100.000\n",
              "hp                                0.000\n",
              "type                              0.013\n",
              "previous_owners                  41.711\n",
              "next_inspection                  77.794\n",
              "inspection_new                   75.300\n",
              "warranty                         34.047\n",
              "full_service                     48.395\n",
              "non-smoking_vehicle              54.916\n",
              "null                              0.000\n",
              "make                              0.000\n",
              "model                             0.000\n",
              "offer_number                     19.945\n",
              "first_registration               10.032\n",
              "body_color                        3.750\n",
              "paint_type                       36.259\n",
              "body_color_original              23.613\n",
              "upholstery                       23.368\n",
              "body                              0.377\n",
              "nr._of_doors                      1.332\n",
              "nr._of_seats                      6.137\n",
              "model_code                       68.729\n",
              "gearing_type                      0.000\n",
              "displacement                      3.116\n",
              "cylinders                        35.681\n",
              "weight                           43.809\n",
              "drive_chain                      43.081\n",
              "fuel                              0.000\n",
              "consumption                      11.973\n",
              "co2_emission                     11.357\n",
              "emission_class                   18.977\n",
              "comfort&convenience               5.779\n",
              "entertainment&media               8.631\n",
              "extras                           18.607\n",
              "safety&security                   6.169\n",
              "description                       0.000\n",
              "emission_label                   74.967\n",
              "gears                            29.600\n",
              "country_version                  52.346\n",
              "electricity_consumption          99.139\n",
              "last_service_date                96.445\n",
              "other_fuel_types                 94.472\n",
              "availability                     96.011\n",
              "last_timing_belt_service_date    99.899\n",
              "available_from                   98.291\n",
              "dtype: float64"
            ]
          },
          "metadata": {},
          "execution_count": 196
        }
      ]
    },
    {
      "cell_type": "code",
      "execution_count": 197,
      "metadata": {
        "id": "k5s01O5rM6fQ"
      },
      "outputs": [],
      "source": [
        "df.drop([\"null\",\"available_from\",\"last_timing_belt_service_date\",\"availability\",\"kw\",'electricity_consumption','last_service_date', 'other_fuel_types'], axis = 1, inplace = True)"
      ]
    },
    {
      "cell_type": "code",
      "execution_count": 197,
      "metadata": {
        "id": "b0YRMgIvQZ16"
      },
      "outputs": [],
      "source": [
        ""
      ]
    },
    {
      "cell_type": "code",
      "execution_count": 198,
      "metadata": {
        "id": "STjHZyGUNeFR",
        "colab": {
          "base_uri": "https://localhost:8080/"
        },
        "outputId": "8011d2a2-634b-41eb-f254-07c8fe410171"
      },
      "outputs": [
        {
          "output_type": "execute_result",
          "data": {
            "text/plain": [
              "Index(['url', 'make_model', 'short_description', 'body_type', 'price', 'vat',\n",
              "       'km', 'registration', 'prev_owner', 'hp', 'type', 'previous_owners',\n",
              "       'next_inspection', 'inspection_new', 'warranty', 'full_service',\n",
              "       'non-smoking_vehicle', 'make', 'model', 'offer_number',\n",
              "       'first_registration', 'body_color', 'paint_type', 'body_color_original',\n",
              "       'upholstery', 'body', 'nr._of_doors', 'nr._of_seats', 'model_code',\n",
              "       'gearing_type', 'displacement', 'cylinders', 'weight', 'drive_chain',\n",
              "       'fuel', 'consumption', 'co2_emission', 'emission_class',\n",
              "       'comfort&convenience', 'entertainment&media', 'extras',\n",
              "       'safety&security', 'description', 'emission_label', 'gears',\n",
              "       'country_version'],\n",
              "      dtype='object')"
            ]
          },
          "metadata": {},
          "execution_count": 198
        }
      ],
      "source": [
        "df.columns"
      ]
    },
    {
      "cell_type": "code",
      "execution_count": 199,
      "metadata": {
        "id": "LyPD9NCiNfV2",
        "colab": {
          "base_uri": "https://localhost:8080/"
        },
        "outputId": "0c8c0a6c-3e9e-4531-9f95-410ab5a4ba3a"
      },
      "outputs": [
        {
          "output_type": "execute_result",
          "data": {
            "text/plain": [
              "(15919, 46)"
            ]
          },
          "metadata": {},
          "execution_count": 199
        }
      ],
      "source": [
        "df.shape"
      ]
    },
    {
      "cell_type": "code",
      "execution_count": 200,
      "metadata": {
        "id": "kJ6nYUIWOoS7"
      },
      "outputs": [],
      "source": [
        "#Her sütun için ayrı ayrı kontrol yaptık."
      ]
    },
    {
      "cell_type": "code",
      "execution_count": 201,
      "metadata": {
        "id": "wOA7sNBwNrio",
        "colab": {
          "base_uri": "https://localhost:8080/"
        },
        "outputId": "f7745dec-a18b-482f-a7fd-ebf9e7a70a49"
      },
      "outputs": [
        {
          "output_type": "execute_result",
          "data": {
            "text/plain": [
              "https://www.autoscout24.com//offers/audi-a1-sportback-1-4-tdi-s-tronic-xenon-navi-klima-diesel-black-bdab349a-caa5-41b0-98eb-c1345b84445e                  1\n",
              "https://www.autoscout24.com//offers/opel-insignia-bus-inno-2-0-cdti-aut-navi-bi-xe-led-e6-diesel-black-8710b253-dd98-4ed0-9d46-cbad2d79532b                1\n",
              "https://www.autoscout24.com//offers/opel-insignia-sport-tourer-opel-sport-tourer-1-6-cdti-136-ch-a-c-diesel-silver-10b7463b-9f56-4348-af35-df3432b2b585    1\n",
              "https://www.autoscout24.com//offers/opel-insignia-2-0cdti-st-business-innovation-navi-bt-diesel-black-ba5a3368-dedc-4e51-9127-3976b26e93c2                 1\n",
              "https://www.autoscout24.com//offers/opel-insignia-sport-tourer-opel-sport-tourer-1-6-cdti-136-ch-a-c-diesel-silver-7b52f054-78d3-4d5e-9370-8a7d081d7edd    1\n",
              "                                                                                                                                                          ..\n",
              "https://www.autoscout24.com//offers/audi-a3-sb-30-1-6-tdi-business-116cv-s-tronic-diesel-black-cf50f7b1-4d7b-466f-93a2-4e11ec0b4107                        1\n",
              "https://www.autoscout24.com//offers/audi-a3-sb-30-1-6-tdi-business-116cv-s-tronic-diesel-grey-3f47eb34-15c4-4763-860d-78fcbbd2c9ff                         1\n",
              "https://www.autoscout24.com//offers/audi-a3-sb-30-1-6-tdi-business-116cv-s-tronic-diesel-silver-f7a4bc95-b2ef-4bac-9497-6bcbcd05db0b                       1\n",
              "https://www.autoscout24.com//offers/audi-a3-sb-30-1-6-tdi-business-116cv-s-tronic-diesel-silver-1c94c7a2-67b5-49ca-ae42-42a6800fb3f5                       1\n",
              "https://www.autoscout24.com//offers/renault-espace-initiale-paris-tce-225-edc-gpf-navi-shz-aux-gasoline-grey-0bd690d9-7e93-4cab-bc5a-9d5b63402481          1\n",
              "Name: url, Length: 15919, dtype: int64"
            ]
          },
          "metadata": {},
          "execution_count": 201
        }
      ],
      "source": [
        "df.url.value_counts(dropna=False)"
      ]
    },
    {
      "cell_type": "code",
      "execution_count": 202,
      "metadata": {
        "id": "c6nkAbL4QbhX"
      },
      "outputs": [],
      "source": [
        "df.drop(\"url\",axis=1,inplace=True)"
      ]
    },
    {
      "cell_type": "code",
      "execution_count": 203,
      "metadata": {
        "id": "b6ZbY7B6Qboj",
        "colab": {
          "base_uri": "https://localhost:8080/"
        },
        "outputId": "67675feb-0853-49b4-e415-f6baa08735c5"
      },
      "outputs": [
        {
          "output_type": "execute_result",
          "data": {
            "text/plain": [
              "(15919, 45)"
            ]
          },
          "metadata": {},
          "execution_count": 203
        }
      ],
      "source": [
        "df.shape"
      ]
    },
    {
      "cell_type": "code",
      "execution_count": 204,
      "metadata": {
        "id": "mGKqKKSYQbrk",
        "colab": {
          "base_uri": "https://localhost:8080/"
        },
        "outputId": "c80e9349-4749-485a-b382-4b3718f0b613"
      },
      "outputs": [
        {
          "output_type": "execute_result",
          "data": {
            "text/plain": [
              "Audi A3           3097\n",
              "Audi A1           2614\n",
              "Opel Insignia     2598\n",
              "Opel Astra        2526\n",
              "Opel Corsa        2219\n",
              "Renault Clio      1839\n",
              "Renault Espace     991\n",
              "Renault Duster      34\n",
              "Audi A2              1\n",
              "Name: make_model, dtype: int64"
            ]
          },
          "metadata": {},
          "execution_count": 204
        }
      ],
      "source": [
        "df.make_model.value_counts(dropna=False)"
      ]
    },
    {
      "cell_type": "code",
      "execution_count": 205,
      "metadata": {
        "id": "9_xzNDOYQb5k",
        "colab": {
          "base_uri": "https://localhost:8080/"
        },
        "outputId": "d24e70b0-1303-408b-d216-bf69ca26aeef"
      },
      "outputs": [
        {
          "output_type": "execute_result",
          "data": {
            "text/plain": [
              "\\nOpel\\n       7343\n",
              "\\nAudi\\n       5712\n",
              "\\nRenault\\n    2864\n",
              "Name: make, dtype: int64"
            ]
          },
          "metadata": {},
          "execution_count": 205
        }
      ],
      "source": [
        "df.make.value_counts(dropna=False)"
      ]
    },
    {
      "cell_type": "markdown",
      "metadata": {
        "id": "9EIKu6CRPWGa"
      },
      "source": [
        ""
      ]
    },
    {
      "cell_type": "code",
      "execution_count": 206,
      "metadata": {
        "id": "GRKcYCesRVpa",
        "colab": {
          "base_uri": "https://localhost:8080/",
          "height": 408
        },
        "outputId": "e4096852-77e4-4b70-d230-75193b6fc049"
      },
      "outputs": [
        {
          "output_type": "error",
          "ename": "TypeError",
          "evalue": "ignored",
          "traceback": [
            "\u001b[0;31m---------------------------------------------------------------------------\u001b[0m",
            "\u001b[0;31mTypeError\u001b[0m                                 Traceback (most recent call last)",
            "\u001b[0;32mpandas/_libs/hashtable_class_helper.pxi\u001b[0m in \u001b[0;36mpandas._libs.hashtable.PyObjectHashTable.map_locations\u001b[0;34m()\u001b[0m\n",
            "\u001b[0;31mTypeError\u001b[0m: unhashable type: 'list'"
          ]
        },
        {
          "output_type": "stream",
          "name": "stderr",
          "text": [
            "Exception ignored in: 'pandas._libs.index.IndexEngine._call_map_locations'\n",
            "Traceback (most recent call last):\n",
            "  File \"pandas/_libs/hashtable_class_helper.pxi\", line 5231, in pandas._libs.hashtable.PyObjectHashTable.map_locations\n",
            "TypeError: unhashable type: 'list'\n"
          ]
        },
        {
          "output_type": "execute_result",
          "data": {
            "text/plain": [
              "[\\n, A3, \\n]          3097\n",
              "[\\n, A1, \\n]          2614\n",
              "[\\n, Insignia, \\n]    2598\n",
              "[\\n, Astra, \\n]       2526\n",
              "[\\n, Corsa, \\n]       2219\n",
              "[\\n, Clio, \\n]        1839\n",
              "[\\n, Espace, \\n]       991\n",
              "[\\n, Duster, \\n]        34\n",
              "[\\n, A2, \\n]             1\n",
              "Name: model, dtype: int64"
            ]
          },
          "metadata": {},
          "execution_count": 206
        }
      ],
      "source": [
        "df.model.value_counts(dropna=False)"
      ]
    },
    {
      "cell_type": "code",
      "execution_count": 207,
      "metadata": {
        "id": "QnIAYJCTRXoS",
        "colab": {
          "base_uri": "https://localhost:8080/",
          "height": 363
        },
        "outputId": "d934ad35-89a8-4380-c240-664f5d44979a"
      },
      "outputs": [
        {
          "output_type": "execute_result",
          "data": {
            "text/plain": [
              "          make_model         make               model\n",
              "2030         Audi A1     \\nAudi\\n        [\\n, A1, \\n]\n",
              "14443   Renault Clio  \\nRenault\\n      [\\n, Clio, \\n]\n",
              "11137  Opel Insignia     \\nOpel\\n  [\\n, Insignia, \\n]\n",
              "14339   Renault Clio  \\nRenault\\n      [\\n, Clio, \\n]\n",
              "8097      Opel Astra     \\nOpel\\n     [\\n, Astra, \\n]\n",
              "8523      Opel Corsa     \\nOpel\\n     [\\n, Corsa, \\n]\n",
              "1804         Audi A1     \\nAudi\\n        [\\n, A1, \\n]\n",
              "9955      Opel Corsa     \\nOpel\\n     [\\n, Corsa, \\n]\n",
              "13314   Renault Clio  \\nRenault\\n      [\\n, Clio, \\n]\n",
              "1405         Audi A1     \\nAudi\\n        [\\n, A1, \\n]"
            ],
            "text/html": [
              "\n",
              "  <div id=\"df-f3260ef6-c8da-4bae-bcc7-9863e33dcfc8\">\n",
              "    <div class=\"colab-df-container\">\n",
              "      <div>\n",
              "<style scoped>\n",
              "    .dataframe tbody tr th:only-of-type {\n",
              "        vertical-align: middle;\n",
              "    }\n",
              "\n",
              "    .dataframe tbody tr th {\n",
              "        vertical-align: top;\n",
              "    }\n",
              "\n",
              "    .dataframe thead th {\n",
              "        text-align: right;\n",
              "    }\n",
              "</style>\n",
              "<table border=\"1\" class=\"dataframe\">\n",
              "  <thead>\n",
              "    <tr style=\"text-align: right;\">\n",
              "      <th></th>\n",
              "      <th>make_model</th>\n",
              "      <th>make</th>\n",
              "      <th>model</th>\n",
              "    </tr>\n",
              "  </thead>\n",
              "  <tbody>\n",
              "    <tr>\n",
              "      <th>2030</th>\n",
              "      <td>Audi A1</td>\n",
              "      <td>\\nAudi\\n</td>\n",
              "      <td>[\\n, A1, \\n]</td>\n",
              "    </tr>\n",
              "    <tr>\n",
              "      <th>14443</th>\n",
              "      <td>Renault Clio</td>\n",
              "      <td>\\nRenault\\n</td>\n",
              "      <td>[\\n, Clio, \\n]</td>\n",
              "    </tr>\n",
              "    <tr>\n",
              "      <th>11137</th>\n",
              "      <td>Opel Insignia</td>\n",
              "      <td>\\nOpel\\n</td>\n",
              "      <td>[\\n, Insignia, \\n]</td>\n",
              "    </tr>\n",
              "    <tr>\n",
              "      <th>14339</th>\n",
              "      <td>Renault Clio</td>\n",
              "      <td>\\nRenault\\n</td>\n",
              "      <td>[\\n, Clio, \\n]</td>\n",
              "    </tr>\n",
              "    <tr>\n",
              "      <th>8097</th>\n",
              "      <td>Opel Astra</td>\n",
              "      <td>\\nOpel\\n</td>\n",
              "      <td>[\\n, Astra, \\n]</td>\n",
              "    </tr>\n",
              "    <tr>\n",
              "      <th>8523</th>\n",
              "      <td>Opel Corsa</td>\n",
              "      <td>\\nOpel\\n</td>\n",
              "      <td>[\\n, Corsa, \\n]</td>\n",
              "    </tr>\n",
              "    <tr>\n",
              "      <th>1804</th>\n",
              "      <td>Audi A1</td>\n",
              "      <td>\\nAudi\\n</td>\n",
              "      <td>[\\n, A1, \\n]</td>\n",
              "    </tr>\n",
              "    <tr>\n",
              "      <th>9955</th>\n",
              "      <td>Opel Corsa</td>\n",
              "      <td>\\nOpel\\n</td>\n",
              "      <td>[\\n, Corsa, \\n]</td>\n",
              "    </tr>\n",
              "    <tr>\n",
              "      <th>13314</th>\n",
              "      <td>Renault Clio</td>\n",
              "      <td>\\nRenault\\n</td>\n",
              "      <td>[\\n, Clio, \\n]</td>\n",
              "    </tr>\n",
              "    <tr>\n",
              "      <th>1405</th>\n",
              "      <td>Audi A1</td>\n",
              "      <td>\\nAudi\\n</td>\n",
              "      <td>[\\n, A1, \\n]</td>\n",
              "    </tr>\n",
              "  </tbody>\n",
              "</table>\n",
              "</div>\n",
              "      <button class=\"colab-df-convert\" onclick=\"convertToInteractive('df-f3260ef6-c8da-4bae-bcc7-9863e33dcfc8')\"\n",
              "              title=\"Convert this dataframe to an interactive table.\"\n",
              "              style=\"display:none;\">\n",
              "        \n",
              "  <svg xmlns=\"http://www.w3.org/2000/svg\" height=\"24px\"viewBox=\"0 0 24 24\"\n",
              "       width=\"24px\">\n",
              "    <path d=\"M0 0h24v24H0V0z\" fill=\"none\"/>\n",
              "    <path d=\"M18.56 5.44l.94 2.06.94-2.06 2.06-.94-2.06-.94-.94-2.06-.94 2.06-2.06.94zm-11 1L8.5 8.5l.94-2.06 2.06-.94-2.06-.94L8.5 2.5l-.94 2.06-2.06.94zm10 10l.94 2.06.94-2.06 2.06-.94-2.06-.94-.94-2.06-.94 2.06-2.06.94z\"/><path d=\"M17.41 7.96l-1.37-1.37c-.4-.4-.92-.59-1.43-.59-.52 0-1.04.2-1.43.59L10.3 9.45l-7.72 7.72c-.78.78-.78 2.05 0 2.83L4 21.41c.39.39.9.59 1.41.59.51 0 1.02-.2 1.41-.59l7.78-7.78 2.81-2.81c.8-.78.8-2.07 0-2.86zM5.41 20L4 18.59l7.72-7.72 1.47 1.35L5.41 20z\"/>\n",
              "  </svg>\n",
              "      </button>\n",
              "      \n",
              "  <style>\n",
              "    .colab-df-container {\n",
              "      display:flex;\n",
              "      flex-wrap:wrap;\n",
              "      gap: 12px;\n",
              "    }\n",
              "\n",
              "    .colab-df-convert {\n",
              "      background-color: #E8F0FE;\n",
              "      border: none;\n",
              "      border-radius: 50%;\n",
              "      cursor: pointer;\n",
              "      display: none;\n",
              "      fill: #1967D2;\n",
              "      height: 32px;\n",
              "      padding: 0 0 0 0;\n",
              "      width: 32px;\n",
              "    }\n",
              "\n",
              "    .colab-df-convert:hover {\n",
              "      background-color: #E2EBFA;\n",
              "      box-shadow: 0px 1px 2px rgba(60, 64, 67, 0.3), 0px 1px 3px 1px rgba(60, 64, 67, 0.15);\n",
              "      fill: #174EA6;\n",
              "    }\n",
              "\n",
              "    [theme=dark] .colab-df-convert {\n",
              "      background-color: #3B4455;\n",
              "      fill: #D2E3FC;\n",
              "    }\n",
              "\n",
              "    [theme=dark] .colab-df-convert:hover {\n",
              "      background-color: #434B5C;\n",
              "      box-shadow: 0px 1px 3px 1px rgba(0, 0, 0, 0.15);\n",
              "      filter: drop-shadow(0px 1px 2px rgba(0, 0, 0, 0.3));\n",
              "      fill: #FFFFFF;\n",
              "    }\n",
              "  </style>\n",
              "\n",
              "      <script>\n",
              "        const buttonEl =\n",
              "          document.querySelector('#df-f3260ef6-c8da-4bae-bcc7-9863e33dcfc8 button.colab-df-convert');\n",
              "        buttonEl.style.display =\n",
              "          google.colab.kernel.accessAllowed ? 'block' : 'none';\n",
              "\n",
              "        async function convertToInteractive(key) {\n",
              "          const element = document.querySelector('#df-f3260ef6-c8da-4bae-bcc7-9863e33dcfc8');\n",
              "          const dataTable =\n",
              "            await google.colab.kernel.invokeFunction('convertToInteractive',\n",
              "                                                     [key], {});\n",
              "          if (!dataTable) return;\n",
              "\n",
              "          const docLinkHtml = 'Like what you see? Visit the ' +\n",
              "            '<a target=\"_blank\" href=https://colab.research.google.com/notebooks/data_table.ipynb>data table notebook</a>'\n",
              "            + ' to learn more about interactive tables.';\n",
              "          element.innerHTML = '';\n",
              "          dataTable['output_type'] = 'display_data';\n",
              "          await google.colab.output.renderOutput(dataTable, element);\n",
              "          const docLink = document.createElement('div');\n",
              "          docLink.innerHTML = docLinkHtml;\n",
              "          element.appendChild(docLink);\n",
              "        }\n",
              "      </script>\n",
              "    </div>\n",
              "  </div>\n",
              "  "
            ]
          },
          "metadata": {},
          "execution_count": 207
        }
      ],
      "source": [
        "df[[\"make_model\",\"make\",\"model\"]].sample(10)"
      ]
    },
    {
      "cell_type": "markdown",
      "source": [
        "İnceleme sonucunda make ve model sütunlarına ihtiyacımız olmadığına karar verdik."
      ],
      "metadata": {
        "id": "D8dloY3z3qi1"
      }
    },
    {
      "cell_type": "code",
      "execution_count": 208,
      "metadata": {
        "id": "mOWGXfrVRmjx"
      },
      "outputs": [],
      "source": [
        "\n",
        "df.drop([\"make\",\"model\"],axis=1,inplace=True)"
      ]
    },
    {
      "cell_type": "code",
      "execution_count": 209,
      "metadata": {
        "id": "2wFqH88yTwhS",
        "colab": {
          "base_uri": "https://localhost:8080/"
        },
        "outputId": "ba053977-e39f-4d9c-d387-1ac767f26060"
      },
      "outputs": [
        {
          "output_type": "execute_result",
          "data": {
            "text/plain": [
              "(15919, 43)"
            ]
          },
          "metadata": {},
          "execution_count": 209
        }
      ],
      "source": [
        "df.shape"
      ]
    },
    {
      "cell_type": "code",
      "execution_count": 210,
      "metadata": {
        "id": "9W_U0baSTyT4",
        "colab": {
          "base_uri": "https://localhost:8080/"
        },
        "outputId": "3b03573c-b9da-4d7c-c694-6965b08b0033"
      },
      "outputs": [
        {
          "output_type": "execute_result",
          "data": {
            "text/plain": [
              "SPB 1.6 TDI 116 CV S tronic Sport                 64\n",
              "NaN                                               46\n",
              "1.4 66kW (90CV) Selective                         40\n",
              "MOVE KLIMA CD USB ALLWETTER BLUETOOTH             38\n",
              "SPB 30 TDI S tronic Business                      35\n",
              "                                                  ..\n",
              "K Sports Tourer Business **Navi*Voll**             1\n",
              "1.0 Turbo ecoFLEX Automatic Elective Park Navi     1\n",
              "1.6 CDTI Business *Navi*Automatik*Spurh.*          1\n",
              "1.6 136 CV Automatica Navi E 6 Garanzia Full       1\n",
              "TCe 225 EDC GPF LIM Deluxe Pano,RFK                1\n",
              "Name: short_description, Length: 10002, dtype: int64"
            ]
          },
          "metadata": {},
          "execution_count": 210
        }
      ],
      "source": [
        "df.short_description.value_counts(dropna=False)"
      ]
    },
    {
      "cell_type": "code",
      "execution_count": 211,
      "metadata": {
        "id": "pry16_CVT9Jz"
      },
      "outputs": [],
      "source": [
        "#datayı tanımlama sırasında ihtiyacım olacağını düşündüğümden daha sonraya bırakıyoruz.\n",
        "#df.drop(\"short_description\",axis=1,inplace=True)"
      ]
    },
    {
      "cell_type": "code",
      "source": [
        "df.body_type.value_counts(dropna=False)"
      ],
      "metadata": {
        "colab": {
          "base_uri": "https://localhost:8080/"
        },
        "id": "GYN1AZDF5ecg",
        "outputId": "e339f437-5ea5-4915-c3ea-8103629ead64"
      },
      "execution_count": 212,
      "outputs": [
        {
          "output_type": "execute_result",
          "data": {
            "text/plain": [
              "Sedans           7903\n",
              "Station wagon    3553\n",
              "Compact          3153\n",
              "Van               783\n",
              "Other             290\n",
              "Transporter        88\n",
              "NaN                60\n",
              "Off-Road           56\n",
              "Coupe              25\n",
              "Convertible         8\n",
              "Name: body_type, dtype: int64"
            ]
          },
          "metadata": {},
          "execution_count": 212
        }
      ]
    },
    {
      "cell_type": "code",
      "source": [
        "df.body.value_counts(dropna=False)"
      ],
      "metadata": {
        "colab": {
          "base_uri": "https://localhost:8080/",
          "height": 426
        },
        "id": "Qm4Sjk_a6ebj",
        "outputId": "df35b9b3-e04b-4115-9490-5950343a77fb"
      },
      "execution_count": 213,
      "outputs": [
        {
          "output_type": "error",
          "ename": "TypeError",
          "evalue": "ignored",
          "traceback": [
            "\u001b[0;31m---------------------------------------------------------------------------\u001b[0m",
            "\u001b[0;31mTypeError\u001b[0m                                 Traceback (most recent call last)",
            "\u001b[0;32mpandas/_libs/hashtable_class_helper.pxi\u001b[0m in \u001b[0;36mpandas._libs.hashtable.PyObjectHashTable.map_locations\u001b[0;34m()\u001b[0m\n",
            "\u001b[0;31mTypeError\u001b[0m: unhashable type: 'list'"
          ]
        },
        {
          "output_type": "stream",
          "name": "stderr",
          "text": [
            "Exception ignored in: 'pandas._libs.index.IndexEngine._call_map_locations'\n",
            "Traceback (most recent call last):\n",
            "  File \"pandas/_libs/hashtable_class_helper.pxi\", line 5231, in pandas._libs.hashtable.PyObjectHashTable.map_locations\n",
            "TypeError: unhashable type: 'list'\n"
          ]
        },
        {
          "output_type": "execute_result",
          "data": {
            "text/plain": [
              "[\\n, Sedans, \\n]           7903\n",
              "[\\n, Station wagon, \\n]    3553\n",
              "[\\n, Compact, \\n]          3153\n",
              "[\\n, Van, \\n]               783\n",
              "[\\n, Other, \\n]             290\n",
              "[\\n, Transporter, \\n]        88\n",
              "NaN                          60\n",
              "[\\n, Off-Road, \\n]           56\n",
              "[\\n, Coupe, \\n]              25\n",
              "[\\n, Convertible, \\n]         8\n",
              "Name: body, dtype: int64"
            ]
          },
          "metadata": {},
          "execution_count": 213
        }
      ]
    },
    {
      "cell_type": "code",
      "source": [
        "df[[\"body_type\",\"body\"]].sample(10)"
      ],
      "metadata": {
        "colab": {
          "base_uri": "https://localhost:8080/",
          "height": 363
        },
        "id": "f1Uu5OTM6nAP",
        "outputId": "8f3c18b6-7164-4969-9db8-70f9151e4993"
      },
      "execution_count": 214,
      "outputs": [
        {
          "output_type": "execute_result",
          "data": {
            "text/plain": [
              "           body_type                     body\n",
              "13281        Compact        [\\n, Compact, \\n]\n",
              "9466         Compact        [\\n, Compact, \\n]\n",
              "3541          Sedans         [\\n, Sedans, \\n]\n",
              "12373  Station wagon  [\\n, Station wagon, \\n]\n",
              "1466         Compact        [\\n, Compact, \\n]\n",
              "13041         Sedans         [\\n, Sedans, \\n]\n",
              "2845          Sedans         [\\n, Sedans, \\n]\n",
              "732           Sedans         [\\n, Sedans, \\n]\n",
              "2304          Sedans         [\\n, Sedans, \\n]\n",
              "15000            Van            [\\n, Van, \\n]"
            ],
            "text/html": [
              "\n",
              "  <div id=\"df-f59e374d-3093-47e5-955a-c6923abb2650\">\n",
              "    <div class=\"colab-df-container\">\n",
              "      <div>\n",
              "<style scoped>\n",
              "    .dataframe tbody tr th:only-of-type {\n",
              "        vertical-align: middle;\n",
              "    }\n",
              "\n",
              "    .dataframe tbody tr th {\n",
              "        vertical-align: top;\n",
              "    }\n",
              "\n",
              "    .dataframe thead th {\n",
              "        text-align: right;\n",
              "    }\n",
              "</style>\n",
              "<table border=\"1\" class=\"dataframe\">\n",
              "  <thead>\n",
              "    <tr style=\"text-align: right;\">\n",
              "      <th></th>\n",
              "      <th>body_type</th>\n",
              "      <th>body</th>\n",
              "    </tr>\n",
              "  </thead>\n",
              "  <tbody>\n",
              "    <tr>\n",
              "      <th>13281</th>\n",
              "      <td>Compact</td>\n",
              "      <td>[\\n, Compact, \\n]</td>\n",
              "    </tr>\n",
              "    <tr>\n",
              "      <th>9466</th>\n",
              "      <td>Compact</td>\n",
              "      <td>[\\n, Compact, \\n]</td>\n",
              "    </tr>\n",
              "    <tr>\n",
              "      <th>3541</th>\n",
              "      <td>Sedans</td>\n",
              "      <td>[\\n, Sedans, \\n]</td>\n",
              "    </tr>\n",
              "    <tr>\n",
              "      <th>12373</th>\n",
              "      <td>Station wagon</td>\n",
              "      <td>[\\n, Station wagon, \\n]</td>\n",
              "    </tr>\n",
              "    <tr>\n",
              "      <th>1466</th>\n",
              "      <td>Compact</td>\n",
              "      <td>[\\n, Compact, \\n]</td>\n",
              "    </tr>\n",
              "    <tr>\n",
              "      <th>13041</th>\n",
              "      <td>Sedans</td>\n",
              "      <td>[\\n, Sedans, \\n]</td>\n",
              "    </tr>\n",
              "    <tr>\n",
              "      <th>2845</th>\n",
              "      <td>Sedans</td>\n",
              "      <td>[\\n, Sedans, \\n]</td>\n",
              "    </tr>\n",
              "    <tr>\n",
              "      <th>732</th>\n",
              "      <td>Sedans</td>\n",
              "      <td>[\\n, Sedans, \\n]</td>\n",
              "    </tr>\n",
              "    <tr>\n",
              "      <th>2304</th>\n",
              "      <td>Sedans</td>\n",
              "      <td>[\\n, Sedans, \\n]</td>\n",
              "    </tr>\n",
              "    <tr>\n",
              "      <th>15000</th>\n",
              "      <td>Van</td>\n",
              "      <td>[\\n, Van, \\n]</td>\n",
              "    </tr>\n",
              "  </tbody>\n",
              "</table>\n",
              "</div>\n",
              "      <button class=\"colab-df-convert\" onclick=\"convertToInteractive('df-f59e374d-3093-47e5-955a-c6923abb2650')\"\n",
              "              title=\"Convert this dataframe to an interactive table.\"\n",
              "              style=\"display:none;\">\n",
              "        \n",
              "  <svg xmlns=\"http://www.w3.org/2000/svg\" height=\"24px\"viewBox=\"0 0 24 24\"\n",
              "       width=\"24px\">\n",
              "    <path d=\"M0 0h24v24H0V0z\" fill=\"none\"/>\n",
              "    <path d=\"M18.56 5.44l.94 2.06.94-2.06 2.06-.94-2.06-.94-.94-2.06-.94 2.06-2.06.94zm-11 1L8.5 8.5l.94-2.06 2.06-.94-2.06-.94L8.5 2.5l-.94 2.06-2.06.94zm10 10l.94 2.06.94-2.06 2.06-.94-2.06-.94-.94-2.06-.94 2.06-2.06.94z\"/><path d=\"M17.41 7.96l-1.37-1.37c-.4-.4-.92-.59-1.43-.59-.52 0-1.04.2-1.43.59L10.3 9.45l-7.72 7.72c-.78.78-.78 2.05 0 2.83L4 21.41c.39.39.9.59 1.41.59.51 0 1.02-.2 1.41-.59l7.78-7.78 2.81-2.81c.8-.78.8-2.07 0-2.86zM5.41 20L4 18.59l7.72-7.72 1.47 1.35L5.41 20z\"/>\n",
              "  </svg>\n",
              "      </button>\n",
              "      \n",
              "  <style>\n",
              "    .colab-df-container {\n",
              "      display:flex;\n",
              "      flex-wrap:wrap;\n",
              "      gap: 12px;\n",
              "    }\n",
              "\n",
              "    .colab-df-convert {\n",
              "      background-color: #E8F0FE;\n",
              "      border: none;\n",
              "      border-radius: 50%;\n",
              "      cursor: pointer;\n",
              "      display: none;\n",
              "      fill: #1967D2;\n",
              "      height: 32px;\n",
              "      padding: 0 0 0 0;\n",
              "      width: 32px;\n",
              "    }\n",
              "\n",
              "    .colab-df-convert:hover {\n",
              "      background-color: #E2EBFA;\n",
              "      box-shadow: 0px 1px 2px rgba(60, 64, 67, 0.3), 0px 1px 3px 1px rgba(60, 64, 67, 0.15);\n",
              "      fill: #174EA6;\n",
              "    }\n",
              "\n",
              "    [theme=dark] .colab-df-convert {\n",
              "      background-color: #3B4455;\n",
              "      fill: #D2E3FC;\n",
              "    }\n",
              "\n",
              "    [theme=dark] .colab-df-convert:hover {\n",
              "      background-color: #434B5C;\n",
              "      box-shadow: 0px 1px 3px 1px rgba(0, 0, 0, 0.15);\n",
              "      filter: drop-shadow(0px 1px 2px rgba(0, 0, 0, 0.3));\n",
              "      fill: #FFFFFF;\n",
              "    }\n",
              "  </style>\n",
              "\n",
              "      <script>\n",
              "        const buttonEl =\n",
              "          document.querySelector('#df-f59e374d-3093-47e5-955a-c6923abb2650 button.colab-df-convert');\n",
              "        buttonEl.style.display =\n",
              "          google.colab.kernel.accessAllowed ? 'block' : 'none';\n",
              "\n",
              "        async function convertToInteractive(key) {\n",
              "          const element = document.querySelector('#df-f59e374d-3093-47e5-955a-c6923abb2650');\n",
              "          const dataTable =\n",
              "            await google.colab.kernel.invokeFunction('convertToInteractive',\n",
              "                                                     [key], {});\n",
              "          if (!dataTable) return;\n",
              "\n",
              "          const docLinkHtml = 'Like what you see? Visit the ' +\n",
              "            '<a target=\"_blank\" href=https://colab.research.google.com/notebooks/data_table.ipynb>data table notebook</a>'\n",
              "            + ' to learn more about interactive tables.';\n",
              "          element.innerHTML = '';\n",
              "          dataTable['output_type'] = 'display_data';\n",
              "          await google.colab.output.renderOutput(dataTable, element);\n",
              "          const docLink = document.createElement('div');\n",
              "          docLink.innerHTML = docLinkHtml;\n",
              "          element.appendChild(docLink);\n",
              "        }\n",
              "      </script>\n",
              "    </div>\n",
              "  </div>\n",
              "  "
            ]
          },
          "metadata": {},
          "execution_count": 214
        }
      ]
    },
    {
      "cell_type": "code",
      "source": [
        "df.drop(\"body\",axis=1,inplace=True)"
      ],
      "metadata": {
        "id": "q5OSZtBY687j"
      },
      "execution_count": 215,
      "outputs": []
    },
    {
      "cell_type": "code",
      "source": [
        "df.shape"
      ],
      "metadata": {
        "colab": {
          "base_uri": "https://localhost:8080/"
        },
        "id": "5_JH48bd7-Hv",
        "outputId": "8346f9f5-3963-429c-cd7b-e99cb148b37b"
      },
      "execution_count": 216,
      "outputs": [
        {
          "output_type": "execute_result",
          "data": {
            "text/plain": [
              "(15919, 42)"
            ]
          },
          "metadata": {},
          "execution_count": 216
        }
      ]
    },
    {
      "cell_type": "code",
      "source": [
        "df.price.value_counts(dropna=False)"
      ],
      "metadata": {
        "colab": {
          "base_uri": "https://localhost:8080/"
        },
        "id": "S2dlHVNv8AXa",
        "outputId": "4bd408e6-850b-49ba-91ee-e01aae1c207d"
      },
      "execution_count": 217,
      "outputs": [
        {
          "output_type": "execute_result",
          "data": {
            "text/plain": [
              "14990    154\n",
              "15990    151\n",
              "10990    139\n",
              "15900    106\n",
              "17990    102\n",
              "        ... \n",
              "17559      1\n",
              "17560      1\n",
              "17570      1\n",
              "17575      1\n",
              "39875      1\n",
              "Name: price, Length: 2956, dtype: int64"
            ]
          },
          "metadata": {},
          "execution_count": 217
        }
      ]
    },
    {
      "cell_type": "code",
      "source": [
        "df.info()"
      ],
      "metadata": {
        "colab": {
          "base_uri": "https://localhost:8080/"
        },
        "id": "6ejKVwZs8N3a",
        "outputId": "526c093a-2a92-41a4-dee1-1f6aca4e11aa"
      },
      "execution_count": 218,
      "outputs": [
        {
          "output_type": "stream",
          "name": "stdout",
          "text": [
            "<class 'pandas.core.frame.DataFrame'>\n",
            "RangeIndex: 15919 entries, 0 to 15918\n",
            "Data columns (total 42 columns):\n",
            " #   Column               Non-Null Count  Dtype \n",
            "---  ------               --------------  ----- \n",
            " 0   make_model           15919 non-null  object\n",
            " 1   short_description    15873 non-null  object\n",
            " 2   body_type            15859 non-null  object\n",
            " 3   price                15919 non-null  int64 \n",
            " 4   vat                  11406 non-null  object\n",
            " 5   km                   15919 non-null  object\n",
            " 6   registration         15919 non-null  object\n",
            " 7   prev_owner           9091 non-null   object\n",
            " 8   hp                   15919 non-null  object\n",
            " 9   type                 15917 non-null  object\n",
            " 10  previous_owners      9279 non-null   object\n",
            " 11  next_inspection      3535 non-null   object\n",
            " 12  inspection_new       3932 non-null   object\n",
            " 13  warranty             10499 non-null  object\n",
            " 14  full_service         8215 non-null   object\n",
            " 15  non-smoking_vehicle  7177 non-null   object\n",
            " 16  offer_number         12744 non-null  object\n",
            " 17  first_registration   14322 non-null  object\n",
            " 18  body_color           15322 non-null  object\n",
            " 19  paint_type           10147 non-null  object\n",
            " 20  body_color_original  12160 non-null  object\n",
            " 21  upholstery           12199 non-null  object\n",
            " 22  nr._of_doors         15707 non-null  object\n",
            " 23  nr._of_seats         14942 non-null  object\n",
            " 24  model_code           4978 non-null   object\n",
            " 25  gearing_type         15919 non-null  object\n",
            " 26  displacement         15423 non-null  object\n",
            " 27  cylinders            10239 non-null  object\n",
            " 28  weight               8945 non-null   object\n",
            " 29  drive_chain          9061 non-null   object\n",
            " 30  fuel                 15919 non-null  object\n",
            " 31  consumption          14013 non-null  object\n",
            " 32  co2_emission         14111 non-null  object\n",
            " 33  emission_class       12898 non-null  object\n",
            " 34  comfort&convenience  14999 non-null  object\n",
            " 35  entertainment&media  14545 non-null  object\n",
            " 36  extras               12957 non-null  object\n",
            " 37  safety&security      14937 non-null  object\n",
            " 38  description          15919 non-null  object\n",
            " 39  emission_label       3985 non-null   object\n",
            " 40  gears                11207 non-null  object\n",
            " 41  country_version      7586 non-null   object\n",
            "dtypes: int64(1), object(41)\n",
            "memory usage: 5.1+ MB\n"
          ]
        }
      ]
    },
    {
      "cell_type": "markdown",
      "source": [
        "vat da nan değerleri ne yapacağız?"
      ],
      "metadata": {
        "id": "StIrtQ1f8-G6"
      }
    },
    {
      "cell_type": "code",
      "source": [
        "df.vat.value_counts(dropna=False)"
      ],
      "metadata": {
        "colab": {
          "base_uri": "https://localhost:8080/"
        },
        "id": "Tt9LYQs_8e7x",
        "outputId": "456a0491-3375-4e85-d5d3-864666501610"
      },
      "execution_count": 219,
      "outputs": [
        {
          "output_type": "execute_result",
          "data": {
            "text/plain": [
              "VAT deductible      10980\n",
              "NaN                  4513\n",
              "Price negotiable      426\n",
              "Name: vat, dtype: int64"
            ]
          },
          "metadata": {},
          "execution_count": 219
        }
      ]
    },
    {
      "cell_type": "code",
      "source": [
        "df.km.value_counts(dropna=False)"
      ],
      "metadata": {
        "colab": {
          "base_uri": "https://localhost:8080/"
        },
        "id": "GNIewDBl8z5X",
        "outputId": "3a3c0f10-dfb2-4f5e-ea70-0513fcf58354"
      },
      "execution_count": 220,
      "outputs": [
        {
          "output_type": "execute_result",
          "data": {
            "text/plain": [
              "10 km        1045\n",
              "- km         1024\n",
              "1 km          367\n",
              "5 km          170\n",
              "50 km         148\n",
              "             ... \n",
              "67,469 km       1\n",
              "43,197 km       1\n",
              "10,027 km       1\n",
              "35,882 km       1\n",
              "57 km           1\n",
              "Name: km, Length: 6690, dtype: int64"
            ]
          },
          "metadata": {},
          "execution_count": 220
        }
      ]
    },
    {
      "cell_type": "code",
      "source": [
        "df[[\"price\",\"km\"]].sort_values(by= \"price\",ascending=False).head(20)"
      ],
      "metadata": {
        "colab": {
          "base_uri": "https://localhost:8080/",
          "height": 676
        },
        "id": "Teuu0OBO9t8D",
        "outputId": "efecb515-512d-4021-aab5-58d1a8102a0e"
      },
      "execution_count": 221,
      "outputs": [
        {
          "output_type": "execute_result",
          "data": {
            "text/plain": [
              "       price         km\n",
              "3648   74600  13,000 km\n",
              "15826  68320   4,307 km\n",
              "3649   67600  37,747 km\n",
              "3587   64900  35,000 km\n",
              "15828  64332       1 km\n",
              "15831  64298      15 km\n",
              "3595   63900      10 km\n",
              "15833  63477       8 km\n",
              "3590   62900     700 km\n",
              "3594   58990   7,500 km\n",
              "15808  58950   1,136 km\n",
              "3593   58500  10,000 km\n",
              "15807  57990   5,000 km\n",
              "15809  57800   1,000 km\n",
              "3596   57400  63,000 km\n",
              "15392  56950      11 km\n",
              "3592   56900   5,200 km\n",
              "3597   56100   8,364 km\n",
              "15810  55800   1,000 km\n",
              "15811  55285      12 km"
            ],
            "text/html": [
              "\n",
              "  <div id=\"df-314ba50b-ac81-41e3-a847-acaef30ea640\">\n",
              "    <div class=\"colab-df-container\">\n",
              "      <div>\n",
              "<style scoped>\n",
              "    .dataframe tbody tr th:only-of-type {\n",
              "        vertical-align: middle;\n",
              "    }\n",
              "\n",
              "    .dataframe tbody tr th {\n",
              "        vertical-align: top;\n",
              "    }\n",
              "\n",
              "    .dataframe thead th {\n",
              "        text-align: right;\n",
              "    }\n",
              "</style>\n",
              "<table border=\"1\" class=\"dataframe\">\n",
              "  <thead>\n",
              "    <tr style=\"text-align: right;\">\n",
              "      <th></th>\n",
              "      <th>price</th>\n",
              "      <th>km</th>\n",
              "    </tr>\n",
              "  </thead>\n",
              "  <tbody>\n",
              "    <tr>\n",
              "      <th>3648</th>\n",
              "      <td>74600</td>\n",
              "      <td>13,000 km</td>\n",
              "    </tr>\n",
              "    <tr>\n",
              "      <th>15826</th>\n",
              "      <td>68320</td>\n",
              "      <td>4,307 km</td>\n",
              "    </tr>\n",
              "    <tr>\n",
              "      <th>3649</th>\n",
              "      <td>67600</td>\n",
              "      <td>37,747 km</td>\n",
              "    </tr>\n",
              "    <tr>\n",
              "      <th>3587</th>\n",
              "      <td>64900</td>\n",
              "      <td>35,000 km</td>\n",
              "    </tr>\n",
              "    <tr>\n",
              "      <th>15828</th>\n",
              "      <td>64332</td>\n",
              "      <td>1 km</td>\n",
              "    </tr>\n",
              "    <tr>\n",
              "      <th>15831</th>\n",
              "      <td>64298</td>\n",
              "      <td>15 km</td>\n",
              "    </tr>\n",
              "    <tr>\n",
              "      <th>3595</th>\n",
              "      <td>63900</td>\n",
              "      <td>10 km</td>\n",
              "    </tr>\n",
              "    <tr>\n",
              "      <th>15833</th>\n",
              "      <td>63477</td>\n",
              "      <td>8 km</td>\n",
              "    </tr>\n",
              "    <tr>\n",
              "      <th>3590</th>\n",
              "      <td>62900</td>\n",
              "      <td>700 km</td>\n",
              "    </tr>\n",
              "    <tr>\n",
              "      <th>3594</th>\n",
              "      <td>58990</td>\n",
              "      <td>7,500 km</td>\n",
              "    </tr>\n",
              "    <tr>\n",
              "      <th>15808</th>\n",
              "      <td>58950</td>\n",
              "      <td>1,136 km</td>\n",
              "    </tr>\n",
              "    <tr>\n",
              "      <th>3593</th>\n",
              "      <td>58500</td>\n",
              "      <td>10,000 km</td>\n",
              "    </tr>\n",
              "    <tr>\n",
              "      <th>15807</th>\n",
              "      <td>57990</td>\n",
              "      <td>5,000 km</td>\n",
              "    </tr>\n",
              "    <tr>\n",
              "      <th>15809</th>\n",
              "      <td>57800</td>\n",
              "      <td>1,000 km</td>\n",
              "    </tr>\n",
              "    <tr>\n",
              "      <th>3596</th>\n",
              "      <td>57400</td>\n",
              "      <td>63,000 km</td>\n",
              "    </tr>\n",
              "    <tr>\n",
              "      <th>15392</th>\n",
              "      <td>56950</td>\n",
              "      <td>11 km</td>\n",
              "    </tr>\n",
              "    <tr>\n",
              "      <th>3592</th>\n",
              "      <td>56900</td>\n",
              "      <td>5,200 km</td>\n",
              "    </tr>\n",
              "    <tr>\n",
              "      <th>3597</th>\n",
              "      <td>56100</td>\n",
              "      <td>8,364 km</td>\n",
              "    </tr>\n",
              "    <tr>\n",
              "      <th>15810</th>\n",
              "      <td>55800</td>\n",
              "      <td>1,000 km</td>\n",
              "    </tr>\n",
              "    <tr>\n",
              "      <th>15811</th>\n",
              "      <td>55285</td>\n",
              "      <td>12 km</td>\n",
              "    </tr>\n",
              "  </tbody>\n",
              "</table>\n",
              "</div>\n",
              "      <button class=\"colab-df-convert\" onclick=\"convertToInteractive('df-314ba50b-ac81-41e3-a847-acaef30ea640')\"\n",
              "              title=\"Convert this dataframe to an interactive table.\"\n",
              "              style=\"display:none;\">\n",
              "        \n",
              "  <svg xmlns=\"http://www.w3.org/2000/svg\" height=\"24px\"viewBox=\"0 0 24 24\"\n",
              "       width=\"24px\">\n",
              "    <path d=\"M0 0h24v24H0V0z\" fill=\"none\"/>\n",
              "    <path d=\"M18.56 5.44l.94 2.06.94-2.06 2.06-.94-2.06-.94-.94-2.06-.94 2.06-2.06.94zm-11 1L8.5 8.5l.94-2.06 2.06-.94-2.06-.94L8.5 2.5l-.94 2.06-2.06.94zm10 10l.94 2.06.94-2.06 2.06-.94-2.06-.94-.94-2.06-.94 2.06-2.06.94z\"/><path d=\"M17.41 7.96l-1.37-1.37c-.4-.4-.92-.59-1.43-.59-.52 0-1.04.2-1.43.59L10.3 9.45l-7.72 7.72c-.78.78-.78 2.05 0 2.83L4 21.41c.39.39.9.59 1.41.59.51 0 1.02-.2 1.41-.59l7.78-7.78 2.81-2.81c.8-.78.8-2.07 0-2.86zM5.41 20L4 18.59l7.72-7.72 1.47 1.35L5.41 20z\"/>\n",
              "  </svg>\n",
              "      </button>\n",
              "      \n",
              "  <style>\n",
              "    .colab-df-container {\n",
              "      display:flex;\n",
              "      flex-wrap:wrap;\n",
              "      gap: 12px;\n",
              "    }\n",
              "\n",
              "    .colab-df-convert {\n",
              "      background-color: #E8F0FE;\n",
              "      border: none;\n",
              "      border-radius: 50%;\n",
              "      cursor: pointer;\n",
              "      display: none;\n",
              "      fill: #1967D2;\n",
              "      height: 32px;\n",
              "      padding: 0 0 0 0;\n",
              "      width: 32px;\n",
              "    }\n",
              "\n",
              "    .colab-df-convert:hover {\n",
              "      background-color: #E2EBFA;\n",
              "      box-shadow: 0px 1px 2px rgba(60, 64, 67, 0.3), 0px 1px 3px 1px rgba(60, 64, 67, 0.15);\n",
              "      fill: #174EA6;\n",
              "    }\n",
              "\n",
              "    [theme=dark] .colab-df-convert {\n",
              "      background-color: #3B4455;\n",
              "      fill: #D2E3FC;\n",
              "    }\n",
              "\n",
              "    [theme=dark] .colab-df-convert:hover {\n",
              "      background-color: #434B5C;\n",
              "      box-shadow: 0px 1px 3px 1px rgba(0, 0, 0, 0.15);\n",
              "      filter: drop-shadow(0px 1px 2px rgba(0, 0, 0, 0.3));\n",
              "      fill: #FFFFFF;\n",
              "    }\n",
              "  </style>\n",
              "\n",
              "      <script>\n",
              "        const buttonEl =\n",
              "          document.querySelector('#df-314ba50b-ac81-41e3-a847-acaef30ea640 button.colab-df-convert');\n",
              "        buttonEl.style.display =\n",
              "          google.colab.kernel.accessAllowed ? 'block' : 'none';\n",
              "\n",
              "        async function convertToInteractive(key) {\n",
              "          const element = document.querySelector('#df-314ba50b-ac81-41e3-a847-acaef30ea640');\n",
              "          const dataTable =\n",
              "            await google.colab.kernel.invokeFunction('convertToInteractive',\n",
              "                                                     [key], {});\n",
              "          if (!dataTable) return;\n",
              "\n",
              "          const docLinkHtml = 'Like what you see? Visit the ' +\n",
              "            '<a target=\"_blank\" href=https://colab.research.google.com/notebooks/data_table.ipynb>data table notebook</a>'\n",
              "            + ' to learn more about interactive tables.';\n",
              "          element.innerHTML = '';\n",
              "          dataTable['output_type'] = 'display_data';\n",
              "          await google.colab.output.renderOutput(dataTable, element);\n",
              "          const docLink = document.createElement('div');\n",
              "          docLink.innerHTML = docLinkHtml;\n",
              "          element.appendChild(docLink);\n",
              "        }\n",
              "      </script>\n",
              "    </div>\n",
              "  </div>\n",
              "  "
            ]
          },
          "metadata": {},
          "execution_count": 221
        }
      ]
    },
    {
      "cell_type": "code",
      "source": [
        "df.km.str.replace(',','').str.extract('(\\d{1,8})')"
      ],
      "metadata": {
        "colab": {
          "base_uri": "https://localhost:8080/",
          "height": 423
        },
        "id": "Bm3RF1h9CCyz",
        "outputId": "84cce9fe-5d9f-49cc-dc9d-eea1c96fb133"
      },
      "execution_count": 222,
      "outputs": [
        {
          "output_type": "execute_result",
          "data": {
            "text/plain": [
              "           0\n",
              "0      56013\n",
              "1      80000\n",
              "2      83450\n",
              "3      73000\n",
              "4      16200\n",
              "...      ...\n",
              "15914    NaN\n",
              "15915   9900\n",
              "15916     15\n",
              "15917     10\n",
              "15918    NaN\n",
              "\n",
              "[15919 rows x 1 columns]"
            ],
            "text/html": [
              "\n",
              "  <div id=\"df-2da64932-8ec3-4cad-9e5a-297c4be6f52a\">\n",
              "    <div class=\"colab-df-container\">\n",
              "      <div>\n",
              "<style scoped>\n",
              "    .dataframe tbody tr th:only-of-type {\n",
              "        vertical-align: middle;\n",
              "    }\n",
              "\n",
              "    .dataframe tbody tr th {\n",
              "        vertical-align: top;\n",
              "    }\n",
              "\n",
              "    .dataframe thead th {\n",
              "        text-align: right;\n",
              "    }\n",
              "</style>\n",
              "<table border=\"1\" class=\"dataframe\">\n",
              "  <thead>\n",
              "    <tr style=\"text-align: right;\">\n",
              "      <th></th>\n",
              "      <th>0</th>\n",
              "    </tr>\n",
              "  </thead>\n",
              "  <tbody>\n",
              "    <tr>\n",
              "      <th>0</th>\n",
              "      <td>56013</td>\n",
              "    </tr>\n",
              "    <tr>\n",
              "      <th>1</th>\n",
              "      <td>80000</td>\n",
              "    </tr>\n",
              "    <tr>\n",
              "      <th>2</th>\n",
              "      <td>83450</td>\n",
              "    </tr>\n",
              "    <tr>\n",
              "      <th>3</th>\n",
              "      <td>73000</td>\n",
              "    </tr>\n",
              "    <tr>\n",
              "      <th>4</th>\n",
              "      <td>16200</td>\n",
              "    </tr>\n",
              "    <tr>\n",
              "      <th>...</th>\n",
              "      <td>...</td>\n",
              "    </tr>\n",
              "    <tr>\n",
              "      <th>15914</th>\n",
              "      <td>NaN</td>\n",
              "    </tr>\n",
              "    <tr>\n",
              "      <th>15915</th>\n",
              "      <td>9900</td>\n",
              "    </tr>\n",
              "    <tr>\n",
              "      <th>15916</th>\n",
              "      <td>15</td>\n",
              "    </tr>\n",
              "    <tr>\n",
              "      <th>15917</th>\n",
              "      <td>10</td>\n",
              "    </tr>\n",
              "    <tr>\n",
              "      <th>15918</th>\n",
              "      <td>NaN</td>\n",
              "    </tr>\n",
              "  </tbody>\n",
              "</table>\n",
              "<p>15919 rows × 1 columns</p>\n",
              "</div>\n",
              "      <button class=\"colab-df-convert\" onclick=\"convertToInteractive('df-2da64932-8ec3-4cad-9e5a-297c4be6f52a')\"\n",
              "              title=\"Convert this dataframe to an interactive table.\"\n",
              "              style=\"display:none;\">\n",
              "        \n",
              "  <svg xmlns=\"http://www.w3.org/2000/svg\" height=\"24px\"viewBox=\"0 0 24 24\"\n",
              "       width=\"24px\">\n",
              "    <path d=\"M0 0h24v24H0V0z\" fill=\"none\"/>\n",
              "    <path d=\"M18.56 5.44l.94 2.06.94-2.06 2.06-.94-2.06-.94-.94-2.06-.94 2.06-2.06.94zm-11 1L8.5 8.5l.94-2.06 2.06-.94-2.06-.94L8.5 2.5l-.94 2.06-2.06.94zm10 10l.94 2.06.94-2.06 2.06-.94-2.06-.94-.94-2.06-.94 2.06-2.06.94z\"/><path d=\"M17.41 7.96l-1.37-1.37c-.4-.4-.92-.59-1.43-.59-.52 0-1.04.2-1.43.59L10.3 9.45l-7.72 7.72c-.78.78-.78 2.05 0 2.83L4 21.41c.39.39.9.59 1.41.59.51 0 1.02-.2 1.41-.59l7.78-7.78 2.81-2.81c.8-.78.8-2.07 0-2.86zM5.41 20L4 18.59l7.72-7.72 1.47 1.35L5.41 20z\"/>\n",
              "  </svg>\n",
              "      </button>\n",
              "      \n",
              "  <style>\n",
              "    .colab-df-container {\n",
              "      display:flex;\n",
              "      flex-wrap:wrap;\n",
              "      gap: 12px;\n",
              "    }\n",
              "\n",
              "    .colab-df-convert {\n",
              "      background-color: #E8F0FE;\n",
              "      border: none;\n",
              "      border-radius: 50%;\n",
              "      cursor: pointer;\n",
              "      display: none;\n",
              "      fill: #1967D2;\n",
              "      height: 32px;\n",
              "      padding: 0 0 0 0;\n",
              "      width: 32px;\n",
              "    }\n",
              "\n",
              "    .colab-df-convert:hover {\n",
              "      background-color: #E2EBFA;\n",
              "      box-shadow: 0px 1px 2px rgba(60, 64, 67, 0.3), 0px 1px 3px 1px rgba(60, 64, 67, 0.15);\n",
              "      fill: #174EA6;\n",
              "    }\n",
              "\n",
              "    [theme=dark] .colab-df-convert {\n",
              "      background-color: #3B4455;\n",
              "      fill: #D2E3FC;\n",
              "    }\n",
              "\n",
              "    [theme=dark] .colab-df-convert:hover {\n",
              "      background-color: #434B5C;\n",
              "      box-shadow: 0px 1px 3px 1px rgba(0, 0, 0, 0.15);\n",
              "      filter: drop-shadow(0px 1px 2px rgba(0, 0, 0, 0.3));\n",
              "      fill: #FFFFFF;\n",
              "    }\n",
              "  </style>\n",
              "\n",
              "      <script>\n",
              "        const buttonEl =\n",
              "          document.querySelector('#df-2da64932-8ec3-4cad-9e5a-297c4be6f52a button.colab-df-convert');\n",
              "        buttonEl.style.display =\n",
              "          google.colab.kernel.accessAllowed ? 'block' : 'none';\n",
              "\n",
              "        async function convertToInteractive(key) {\n",
              "          const element = document.querySelector('#df-2da64932-8ec3-4cad-9e5a-297c4be6f52a');\n",
              "          const dataTable =\n",
              "            await google.colab.kernel.invokeFunction('convertToInteractive',\n",
              "                                                     [key], {});\n",
              "          if (!dataTable) return;\n",
              "\n",
              "          const docLinkHtml = 'Like what you see? Visit the ' +\n",
              "            '<a target=\"_blank\" href=https://colab.research.google.com/notebooks/data_table.ipynb>data table notebook</a>'\n",
              "            + ' to learn more about interactive tables.';\n",
              "          element.innerHTML = '';\n",
              "          dataTable['output_type'] = 'display_data';\n",
              "          await google.colab.output.renderOutput(dataTable, element);\n",
              "          const docLink = document.createElement('div');\n",
              "          docLink.innerHTML = docLinkHtml;\n",
              "          element.appendChild(docLink);\n",
              "        }\n",
              "      </script>\n",
              "    </div>\n",
              "  </div>\n",
              "  "
            ]
          },
          "metadata": {},
          "execution_count": 222
        }
      ]
    },
    {
      "cell_type": "code",
      "source": [
        "df[\"km\"] = df.km.str.replace(',','').str.extract('(\\d{1,8})')[0].astype('float')"
      ],
      "metadata": {
        "id": "E92tsjP4EtaT"
      },
      "execution_count": 223,
      "outputs": []
    },
    {
      "cell_type": "code",
      "source": [
        "df.km.value_counts(dropna=False)"
      ],
      "metadata": {
        "colab": {
          "base_uri": "https://localhost:8080/"
        },
        "id": "6rl6woYxFOP0",
        "outputId": "19489977-1277-4aaf-e8db-d13f9ec440cc"
      },
      "execution_count": 224,
      "outputs": [
        {
          "output_type": "execute_result",
          "data": {
            "text/plain": [
              "10.000       1045\n",
              "NaN          1024\n",
              "1.000         367\n",
              "5.000         170\n",
              "50.000        148\n",
              "             ... \n",
              "67469.000       1\n",
              "43197.000       1\n",
              "10027.000       1\n",
              "35882.000       1\n",
              "57.000          1\n",
              "Name: km, Length: 6690, dtype: int64"
            ]
          },
          "metadata": {},
          "execution_count": 224
        }
      ]
    },
    {
      "cell_type": "code",
      "source": [
        ""
      ],
      "metadata": {
        "id": "j4lJru7YFUxO"
      },
      "execution_count": 224,
      "outputs": []
    }
  ],
  "metadata": {
    "colab": {
      "collapsed_sections": [],
      "name": "w2.ipynb",
      "provenance": [],
      "authorship_tag": "ABX9TyNOTUnB8AuWLAzBrDFsgItn",
      "include_colab_link": true
    },
    "kernelspec": {
      "display_name": "Python 3",
      "name": "python3"
    },
    "language_info": {
      "name": "python"
    }
  },
  "nbformat": 4,
  "nbformat_minor": 0
}
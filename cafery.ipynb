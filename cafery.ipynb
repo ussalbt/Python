{
  "nbformat": 4,
  "nbformat_minor": 0,
  "metadata": {
    "colab": {
      "name": "Untitled1.ipynb",
      "provenance": [],
      "authorship_tag": "ABX9TyOSGBy5yicv0IQ7Fgk54ykI",
      "include_colab_link": true
    },
    "kernelspec": {
      "name": "python3",
      "display_name": "Python 3"
    },
    "language_info": {
      "name": "python"
    }
  },
  "cells": [
    {
      "cell_type": "markdown",
      "metadata": {
        "id": "view-in-github",
        "colab_type": "text"
      },
      "source": [
        "<a href=\"https://colab.research.google.com/github/ussalbt/Python/blob/main/cafery.ipynb\" target=\"_parent\"><img src=\"https://colab.research.google.com/assets/colab-badge.svg\" alt=\"Open In Colab\"/></a>"
      ]
    },
    {
      "cell_type": "code",
      "execution_count": null,
      "metadata": {
        "colab": {
          "base_uri": "https://localhost:8080/"
        },
        "id": "AxoZ8UCbOfJd",
        "outputId": "fe1ef600-444e-4bc7-dd50-800bc7c0fb6f"
      },
      "outputs": [
        {
          "output_type": "execute_result",
          "data": {
            "text/plain": [
              "18"
            ]
          },
          "metadata": {},
          "execution_count": 2
        }
      ],
      "source": [
        "3*6\n"
      ]
    },
    {
      "cell_type": "code",
      "source": [
        "x = 3 * 5\n",
        "\n"
      ],
      "metadata": {
        "id": "PQE3o8RfO8od"
      },
      "execution_count": null,
      "outputs": []
    },
    {
      "cell_type": "code",
      "source": [
        "y = 4 * 5\n",
        "y"
      ],
      "metadata": {
        "colab": {
          "base_uri": "https://localhost:8080/"
        },
        "id": "15YxkUI0PLlE",
        "outputId": "758a0db0-2297-4d80-d659-df67699e9999"
      },
      "execution_count": null,
      "outputs": [
        {
          "output_type": "execute_result",
          "data": {
            "text/plain": [
              "20"
            ]
          },
          "metadata": {},
          "execution_count": 9
        }
      ]
    },
    {
      "cell_type": "code",
      "source": [
        "x + y"
      ],
      "metadata": {
        "colab": {
          "base_uri": "https://localhost:8080/"
        },
        "id": "Dj66L7qVPp1c",
        "outputId": "001ef422-9ae1-4251-b062-444a7f7be3b0"
      },
      "execution_count": null,
      "outputs": [
        {
          "output_type": "execute_result",
          "data": {
            "text/plain": [
              "35"
            ]
          },
          "metadata": {},
          "execution_count": 16
        }
      ]
    },
    {
      "cell_type": "code",
      "source": [
        "x = 16\n",
        "x"
      ],
      "metadata": {
        "colab": {
          "base_uri": "https://localhost:8080/"
        },
        "id": "rbskkj3aQA90",
        "outputId": "cfc5ab51-40cb-4584-eafb-fe93762ea4a8"
      },
      "execution_count": null,
      "outputs": [
        {
          "output_type": "execute_result",
          "data": {
            "text/plain": [
              "16"
            ]
          },
          "metadata": {},
          "execution_count": 17
        }
      ]
    },
    {
      "cell_type": "code",
      "source": [
        "z= x - 10\n",
        "z"
      ],
      "metadata": {
        "colab": {
          "base_uri": "https://localhost:8080/"
        },
        "id": "mQfOLC5KQN_V",
        "outputId": "4fd2e41f-85d9-4419-a085-11897615f6a6"
      },
      "execution_count": null,
      "outputs": [
        {
          "output_type": "execute_result",
          "data": {
            "text/plain": [
              "6"
            ]
          },
          "metadata": {},
          "execution_count": 20
        }
      ]
    },
    {
      "cell_type": "code",
      "source": [
        "7%2"
      ],
      "metadata": {
        "colab": {
          "base_uri": "https://localhost:8080/"
        },
        "id": "dHcGa9rWQWVM",
        "outputId": "ba95714c-18e5-4480-cf06-e8243fbad453"
      },
      "execution_count": null,
      "outputs": [
        {
          "output_type": "execute_result",
          "data": {
            "text/plain": [
              "1"
            ]
          },
          "metadata": {},
          "execution_count": 22
        }
      ]
    },
    {
      "cell_type": "code",
      "source": [
        "5%3"
      ],
      "metadata": {
        "colab": {
          "base_uri": "https://localhost:8080/"
        },
        "id": "BIqMF5YMQj8s",
        "outputId": "8d7144aa-f976-461d-a529-26c6d32e4374"
      },
      "execution_count": null,
      "outputs": [
        {
          "output_type": "execute_result",
          "data": {
            "text/plain": [
              "2"
            ]
          },
          "metadata": {},
          "execution_count": 24
        }
      ]
    },
    {
      "cell_type": "code",
      "source": [
        "6% 2"
      ],
      "metadata": {
        "colab": {
          "base_uri": "https://localhost:8080/"
        },
        "id": "iBjyV7E2QrLk",
        "outputId": "b64d96d8-0c67-497b-e77f-b1c998a71c89"
      },
      "execution_count": null,
      "outputs": [
        {
          "output_type": "execute_result",
          "data": {
            "text/plain": [
              "0"
            ]
          },
          "metadata": {},
          "execution_count": 26
        }
      ]
    },
    {
      "cell_type": "code",
      "source": [
        "6 % 2 == 0"
      ],
      "metadata": {
        "colab": {
          "base_uri": "https://localhost:8080/"
        },
        "id": "Rk9FoHwZQ3dE",
        "outputId": "456f548a-c8c6-4095-e59c-d5f80714e7a7"
      },
      "execution_count": null,
      "outputs": [
        {
          "output_type": "execute_result",
          "data": {
            "text/plain": [
              "True"
            ]
          },
          "metadata": {},
          "execution_count": 28
        }
      ]
    },
    {
      "cell_type": "code",
      "source": [
        "7 % 2 == 0"
      ],
      "metadata": {
        "colab": {
          "base_uri": "https://localhost:8080/"
        },
        "id": "h_YPYaRFRIpc",
        "outputId": "729b2dc6-6ce2-49da-a871-cc8a8fcb8eaf"
      },
      "execution_count": null,
      "outputs": [
        {
          "output_type": "execute_result",
          "data": {
            "text/plain": [
              "False"
            ]
          },
          "metadata": {},
          "execution_count": 30
        }
      ]
    },
    {
      "cell_type": "code",
      "source": [
        "def topla (a, b, c,):\n",
        "  return a + b + c "
      ],
      "metadata": {
        "id": "iA-WjLxbRTZL"
      },
      "execution_count": null,
      "outputs": []
    },
    {
      "cell_type": "code",
      "source": [
        "topla(2, 3, 5)"
      ],
      "metadata": {
        "colab": {
          "base_uri": "https://localhost:8080/"
        },
        "id": "0k3VzpleSRq8",
        "outputId": "c532cd64-88c5-4ae7-a680-2db171165a80"
      },
      "execution_count": null,
      "outputs": [
        {
          "output_type": "execute_result",
          "data": {
            "text/plain": [
              "10"
            ]
          },
          "metadata": {},
          "execution_count": 32
        }
      ]
    },
    {
      "cell_type": "code",
      "source": [
        "def cift_mi (sayi):\n",
        "  return sayi % 2 == 0"
      ],
      "metadata": {
        "id": "FpGo-tYqS1cN"
      },
      "execution_count": null,
      "outputs": []
    },
    {
      "cell_type": "code",
      "source": [
        "cift_mi (10)"
      ],
      "metadata": {
        "colab": {
          "base_uri": "https://localhost:8080/"
        },
        "id": "fYxcNuk5T0ij",
        "outputId": "47d8dee7-2994-4031-c8b0-55cda47343a5"
      },
      "execution_count": null,
      "outputs": [
        {
          "output_type": "execute_result",
          "data": {
            "text/plain": [
              "True"
            ]
          },
          "metadata": {},
          "execution_count": 36
        }
      ]
    },
    {
      "cell_type": "code",
      "source": [
        "cift_mi (11)"
      ],
      "metadata": {
        "colab": {
          "base_uri": "https://localhost:8080/"
        },
        "id": "j89c-HsZT9l1",
        "outputId": "73ca2a19-8189-46e6-c3c1-29e61602a8aa"
      },
      "execution_count": null,
      "outputs": [
        {
          "output_type": "execute_result",
          "data": {
            "text/plain": [
              "False"
            ]
          },
          "metadata": {},
          "execution_count": 37
        }
      ]
    },
    {
      "cell_type": "code",
      "source": [
        "def is_leap_year (year):\n",
        "  if (year % 400 == 0):\n",
        "    return True \n",
        "  elif (year% 100 == 0):\n",
        "    return False\n",
        "  elif (year % 4 == 0):\n",
        "    return True\n",
        "  else: \n",
        "    return False"
      ],
      "metadata": {
        "id": "eTQf1cEPUPl0"
      },
      "execution_count": null,
      "outputs": []
    },
    {
      "cell_type": "code",
      "source": [
        "is_leap_year(220)"
      ],
      "metadata": {
        "colab": {
          "base_uri": "https://localhost:8080/"
        },
        "id": "cRnITLegWs_N",
        "outputId": "198c21c8-9241-4fd3-85eb-bbe03141fe04"
      },
      "execution_count": null,
      "outputs": [
        {
          "output_type": "execute_result",
          "data": {
            "text/plain": [
              "True"
            ]
          },
          "metadata": {},
          "execution_count": 49
        }
      ]
    },
    {
      "cell_type": "code",
      "source": [
        "def is_leap_year_2 (year):\n",
        " return (year%400 == 0) or ((year%4 == 0) and (year%100 != 0))"
      ],
      "metadata": {
        "id": "_tgG4WMMXkTd"
      },
      "execution_count": 57,
      "outputs": []
    },
    {
      "cell_type": "markdown",
      "source": [
        ""
      ],
      "metadata": {
        "id": "2666rQEvcpUd"
      }
    },
    {
      "cell_type": "code",
      "source": [
        "is_leap_year_2 (2114)"
      ],
      "metadata": {
        "colab": {
          "base_uri": "https://localhost:8080/"
        },
        "id": "gvsZiGYIY9Vw",
        "outputId": "d80a5090-d16c-4c5b-e9de-bc71dd85024f"
      },
      "execution_count": 55,
      "outputs": [
        {
          "output_type": "execute_result",
          "data": {
            "text/plain": [
              "False"
            ]
          },
          "metadata": {},
          "execution_count": 55
        }
      ]
    },
    {
      "cell_type": "code",
      "source": [
        "print (1, 2, 3, 4, 5,)"
      ],
      "metadata": {
        "colab": {
          "base_uri": "https://localhost:8080/"
        },
        "id": "0DDO_JBNcsh1",
        "outputId": "084d4d39-6d4d-4ac6-a693-8139e4511013"
      },
      "execution_count": 58,
      "outputs": [
        {
          "output_type": "stream",
          "name": "stdout",
          "text": [
            "1 2 3 4 5\n"
          ]
        }
      ]
    },
    {
      "cell_type": "code",
      "source": [
        "for i in range(0, 101, 5):\n",
        "  print(i)"
      ],
      "metadata": {
        "colab": {
          "base_uri": "https://localhost:8080/"
        },
        "id": "llHDSWwhc1Sf",
        "outputId": "826d54af-327f-4281-e4f7-51d767665701"
      },
      "execution_count": 63,
      "outputs": [
        {
          "output_type": "stream",
          "name": "stdout",
          "text": [
            "0\n",
            "5\n",
            "10\n",
            "15\n",
            "20\n",
            "25\n",
            "30\n",
            "35\n",
            "40\n",
            "45\n",
            "50\n",
            "55\n",
            "60\n",
            "65\n",
            "70\n",
            "75\n",
            "80\n",
            "85\n",
            "90\n",
            "95\n",
            "100\n"
          ]
        }
      ]
    },
    {
      "cell_type": "code",
      "source": [
        "def cift_sayi_toplami (num1, num2): # gelen sayi cift mi dikkat et \n",
        " toplam = 0\n",
        " for i in range(num1, num2+1, 2):\n",
        "   toplam = toplam + i\n",
        "   # print(toplam)\n",
        " return toplam "
      ],
      "metadata": {
        "id": "giNOWTaldl8F"
      },
      "execution_count": 69,
      "outputs": []
    },
    {
      "cell_type": "code",
      "source": [
        "cift_sayi_toplami (10, 20)"
      ],
      "metadata": {
        "colab": {
          "base_uri": "https://localhost:8080/"
        },
        "id": "uWkZlHJne8VF",
        "outputId": "0b4c3b1c-479f-49d5-e4f1-30f8c231ab4d"
      },
      "execution_count": 70,
      "outputs": [
        {
          "output_type": "execute_result",
          "data": {
            "text/plain": [
              "90"
            ]
          },
          "metadata": {},
          "execution_count": 70
        }
      ]
    },
    {
      "cell_type": "code",
      "source": [
        "cift_sayi_toplami(9, 20)"
      ],
      "metadata": {
        "colab": {
          "base_uri": "https://localhost:8080/"
        },
        "id": "FuNX3npBfUIM",
        "outputId": "443a977a-015a-4316-9361-629de83152c5"
      },
      "execution_count": 73,
      "outputs": [
        {
          "output_type": "execute_result",
          "data": {
            "text/plain": [
              "84"
            ]
          },
          "metadata": {},
          "execution_count": 73
        }
      ]
    },
    {
      "cell_type": "code",
      "source": [
        "def cift_sayi_toplami_v2 (num1, num2): # gelen sayi cift mi dikkat et \n",
        " if (cift_mi(num1)==False):\n",
        "     num1= num1 + 1\n",
        " toplam = 0\n",
        " for i in range(num1, num2+1, 2):\n",
        "   toplam = toplam + i\n",
        "   print(i)\n",
        " return toplam"
      ],
      "metadata": {
        "id": "nLW86JIgf9mm"
      },
      "execution_count": 85,
      "outputs": []
    },
    {
      "cell_type": "code",
      "source": [
        "cift_sayi_toplami_v2 (9, 20)"
      ],
      "metadata": {
        "colab": {
          "base_uri": "https://localhost:8080/"
        },
        "id": "5oaPd5GEhHwe",
        "outputId": "d835fa3a-afad-40e5-aa53-0d0b11bbf319"
      },
      "execution_count": 86,
      "outputs": [
        {
          "output_type": "stream",
          "name": "stdout",
          "text": [
            "10\n",
            "12\n",
            "14\n",
            "16\n",
            "18\n",
            "20\n"
          ]
        },
        {
          "output_type": "execute_result",
          "data": {
            "text/plain": [
              "90"
            ]
          },
          "metadata": {},
          "execution_count": 86
        }
      ]
    },
    {
      "cell_type": "code",
      "source": [
        "def asal_mi (sayi):\n",
        "  if (sayi < 2):\n",
        "    return False\n",
        "  for i in range (2, sayi, 1):\n",
        "    if (sayi % i ==0):\n",
        "      return False\n",
        "  return True \n"
      ],
      "metadata": {
        "id": "IL4tfJokiDc9"
      },
      "execution_count": 95,
      "outputs": []
    },
    {
      "cell_type": "code",
      "source": [
        "asal_mi (97)"
      ],
      "metadata": {
        "colab": {
          "base_uri": "https://localhost:8080/"
        },
        "id": "SoZd21iFjBQt",
        "outputId": "4bdecae6-a29a-404c-b499-7a23612c42fd"
      },
      "execution_count": 104,
      "outputs": [
        {
          "output_type": "execute_result",
          "data": {
            "text/plain": [
              "True"
            ]
          },
          "metadata": {},
          "execution_count": 104
        }
      ]
    },
    {
      "cell_type": "code",
      "source": [
        "prime_list = []"
      ],
      "metadata": {
        "id": "iCQvycMOk3RT"
      },
      "execution_count": 114,
      "outputs": []
    },
    {
      "cell_type": "code",
      "source": [
        "prime_list"
      ],
      "metadata": {
        "colab": {
          "base_uri": "https://localhost:8080/"
        },
        "id": "1yzb8S8rlHPe",
        "outputId": "a354e5d7-3d66-4a6f-c7b3-d09007532613"
      },
      "execution_count": 119,
      "outputs": [
        {
          "output_type": "execute_result",
          "data": {
            "text/plain": [
              "[2,\n",
              " 3,\n",
              " 5,\n",
              " 7,\n",
              " 11,\n",
              " 13,\n",
              " 17,\n",
              " 19,\n",
              " 23,\n",
              " 29,\n",
              " 31,\n",
              " 37,\n",
              " 41,\n",
              " 43,\n",
              " 47,\n",
              " 53,\n",
              " 59,\n",
              " 61,\n",
              " 67,\n",
              " 71,\n",
              " 73,\n",
              " 79,\n",
              " 83,\n",
              " 89,\n",
              " 97,\n",
              " 101,\n",
              " 103,\n",
              " 107,\n",
              " 109,\n",
              " 113,\n",
              " 127,\n",
              " 131,\n",
              " 137,\n",
              " 139,\n",
              " 149,\n",
              " 151,\n",
              " 157,\n",
              " 163,\n",
              " 167,\n",
              " 173,\n",
              " 179,\n",
              " 181,\n",
              " 191,\n",
              " 193,\n",
              " 197,\n",
              " 199,\n",
              " 211,\n",
              " 223,\n",
              " 227,\n",
              " 229,\n",
              " 233,\n",
              " 239,\n",
              " 241,\n",
              " 251,\n",
              " 257,\n",
              " 263,\n",
              " 269,\n",
              " 271,\n",
              " 277,\n",
              " 281,\n",
              " 283,\n",
              " 293,\n",
              " 307,\n",
              " 311,\n",
              " 313,\n",
              " 317,\n",
              " 331,\n",
              " 337,\n",
              " 347,\n",
              " 349,\n",
              " 353,\n",
              " 359,\n",
              " 367,\n",
              " 373,\n",
              " 379,\n",
              " 383,\n",
              " 389,\n",
              " 397,\n",
              " 401,\n",
              " 409,\n",
              " 419,\n",
              " 421,\n",
              " 431,\n",
              " 433,\n",
              " 439,\n",
              " 443,\n",
              " 449,\n",
              " 457,\n",
              " 461,\n",
              " 463,\n",
              " 467,\n",
              " 479,\n",
              " 487,\n",
              " 491,\n",
              " 499,\n",
              " 503,\n",
              " 509,\n",
              " 521,\n",
              " 523,\n",
              " 541,\n",
              " 547,\n",
              " 557,\n",
              " 563,\n",
              " 569,\n",
              " 571,\n",
              " 577,\n",
              " 587,\n",
              " 593,\n",
              " 599,\n",
              " 601,\n",
              " 607,\n",
              " 613,\n",
              " 617,\n",
              " 619,\n",
              " 631,\n",
              " 641,\n",
              " 643,\n",
              " 647,\n",
              " 653,\n",
              " 659,\n",
              " 661,\n",
              " 673,\n",
              " 677,\n",
              " 683,\n",
              " 691,\n",
              " 701,\n",
              " 709,\n",
              " 719,\n",
              " 727,\n",
              " 733,\n",
              " 739,\n",
              " 743,\n",
              " 751,\n",
              " 757,\n",
              " 761,\n",
              " 769,\n",
              " 773,\n",
              " 787,\n",
              " 797,\n",
              " 809,\n",
              " 811,\n",
              " 821,\n",
              " 823,\n",
              " 827,\n",
              " 829,\n",
              " 839,\n",
              " 853,\n",
              " 857,\n",
              " 859,\n",
              " 863,\n",
              " 877,\n",
              " 881,\n",
              " 883,\n",
              " 887,\n",
              " 907,\n",
              " 911,\n",
              " 919,\n",
              " 929,\n",
              " 937,\n",
              " 941,\n",
              " 947,\n",
              " 953,\n",
              " 967,\n",
              " 971,\n",
              " 977,\n",
              " 983,\n",
              " 991,\n",
              " 997]"
            ]
          },
          "metadata": {},
          "execution_count": 119
        }
      ]
    },
    {
      "cell_type": "code",
      "source": [
        "for num in range (1, 1000):\n",
        "  if(asal_mi(num)):\n",
        "    prime_list. append(num)"
      ],
      "metadata": {
        "id": "tsa75oi2lOq0"
      },
      "execution_count": 118,
      "outputs": []
    },
    {
      "cell_type": "code",
      "source": [
        ""
      ],
      "metadata": {
        "id": "Hc8RM6sPnQhW"
      },
      "execution_count": null,
      "outputs": []
    }
  ]
}
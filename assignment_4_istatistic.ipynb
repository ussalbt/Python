{
  "nbformat": 4,
  "nbformat_minor": 0,
  "metadata": {
    "colab": {
      "name": "assignment 4 istatistic.ipynb",
      "provenance": [],
      "collapsed_sections": []
    },
    "kernelspec": {
      "name": "python3",
      "display_name": "Python 3"
    },
    "language_info": {
      "name": "python"
    }
  },
  "cells": [
    {
      "cell_type": "code",
      "execution_count": 1,
      "metadata": {
        "id": "ChxUfED22vqO"
      },
      "outputs": [],
      "source": [
        "import numpy as np\n",
        "from scipy import stats"
      ]
    },
    {
      "cell_type": "markdown",
      "source": [
        "exercise 1\n"
      ],
      "metadata": {
        "id": "zaHnDC2Ualui"
      }
    },
    {
      "cell_type": "code",
      "source": [
        "p = 0.3\n",
        "n = 10\n",
        "x = 0   #x>= 1 olduğu için X=0 için değeri bulup 1'den çıkartacağız."
      ],
      "metadata": {
        "id": "2X-tSsms24q2"
      },
      "execution_count": 2,
      "outputs": []
    },
    {
      "cell_type": "markdown",
      "source": [
        "**cdf(x, n, p, loc=0)\tCumulative density function**"
      ],
      "metadata": {
        "id": "p9Ck09UH3MBT"
      }
    },
    {
      "cell_type": "code",
      "source": [
        "stats.binom.cdf(x, n, p)"
      ],
      "metadata": {
        "colab": {
          "base_uri": "https://localhost:8080/"
        },
        "id": "rxfXAXzA2_gT",
        "outputId": "064aeabe-0cd2-4df5-bf15-65ec6a0135a2"
      },
      "execution_count": 3,
      "outputs": [
        {
          "output_type": "execute_result",
          "data": {
            "text/plain": [
              "0.028247524899999984"
            ]
          },
          "metadata": {},
          "execution_count": 3
        }
      ]
    },
    {
      "cell_type": "code",
      "source": [
        "1 - stats.binom.cdf(x, n, p)"
      ],
      "metadata": {
        "colab": {
          "base_uri": "https://localhost:8080/"
        },
        "id": "ZRumGWBk2_i7",
        "outputId": "e8ecb5e2-f805-4de1-999e-602bf227fb22"
      },
      "execution_count": 4,
      "outputs": [
        {
          "output_type": "execute_result",
          "data": {
            "text/plain": [
              "0.9717524751000001"
            ]
          },
          "metadata": {},
          "execution_count": 4
        }
      ]
    },
    {
      "cell_type": "markdown",
      "source": [
        "2. bölüm\n"
      ],
      "metadata": {
        "id": "_KiEWZv2b8KJ"
      }
    },
    {
      "cell_type": "code",
      "source": [
        "# Solution with Scipy\n",
        "\n",
        "n = 10 #toplam para atışı\n",
        "p = 0.5 # yazı tura gelme olasılığı\n",
        "x1 = 6 # en az 7 gelme olasılığı"
      ],
      "metadata": {
        "id": "ZdTZZ98k3Zed"
      },
      "execution_count": 6,
      "outputs": []
    },
    {
      "cell_type": "code",
      "source": [
        "stats.binom.cdf(x1, n, p)"
      ],
      "metadata": {
        "colab": {
          "base_uri": "https://localhost:8080/"
        },
        "id": "RrnoVihh36x8",
        "outputId": "f0e52758-388b-4ee1-de78-88a2e53b0dea"
      },
      "execution_count": 7,
      "outputs": [
        {
          "output_type": "execute_result",
          "data": {
            "text/plain": [
              "0.828125"
            ]
          },
          "metadata": {},
          "execution_count": 7
        }
      ]
    },
    {
      "cell_type": "code",
      "source": [
        "1 - stats.binom.cdf(x1, n, p) # en az 7 gelme olasılığı"
      ],
      "metadata": {
        "colab": {
          "base_uri": "https://localhost:8080/"
        },
        "id": "srwL-0Ki360s",
        "outputId": "819d63d2-e89f-4827-ae80-0092115b7886"
      },
      "execution_count": 8,
      "outputs": [
        {
          "output_type": "execute_result",
          "data": {
            "text/plain": [
              "0.171875"
            ]
          },
          "metadata": {},
          "execution_count": 8
        }
      ]
    },
    {
      "cell_type": "code",
      "source": [
        "# With Scipy\n",
        "\n",
        "n = 10\n",
        "p = 0.5\n",
        "x2 = 7 #7 ye eşit gelme olasılığı"
      ],
      "metadata": {
        "id": "e0H868Bx368W"
      },
      "execution_count": 9,
      "outputs": []
    },
    {
      "cell_type": "code",
      "source": [
        "stats.binom.pmf(x2, n, p)"
      ],
      "metadata": {
        "colab": {
          "base_uri": "https://localhost:8080/"
        },
        "id": "HV2v6WRp4M8E",
        "outputId": "c9354a5d-2d0a-4bb7-ddd9-78ff67e76b84"
      },
      "execution_count": 10,
      "outputs": [
        {
          "output_type": "execute_result",
          "data": {
            "text/plain": [
              "0.11718750000000014"
            ]
          },
          "metadata": {},
          "execution_count": 10
        }
      ]
    },
    {
      "cell_type": "code",
      "source": [
        "# With Scipy\n",
        "\n",
        "n = 10\n",
        "p = 0.5\n",
        "x3 = 7# en fazla yedi"
      ],
      "metadata": {
        "id": "WDSkVKl84bL0"
      },
      "execution_count": 11,
      "outputs": []
    },
    {
      "cell_type": "code",
      "source": [
        "stats.binom.cdf(x3, n, p) # başlangıçtan 7 ye kadar kümülatif değerler alır."
      ],
      "metadata": {
        "colab": {
          "base_uri": "https://localhost:8080/"
        },
        "id": "Cj8J-lvH4bOh",
        "outputId": "70dfe2f2-180d-4ac7-90b0-9697b56ffc91"
      },
      "execution_count": 13,
      "outputs": [
        {
          "output_type": "execute_result",
          "data": {
            "text/plain": [
              "0.9453125"
            ]
          },
          "metadata": {},
          "execution_count": 13
        }
      ]
    },
    {
      "cell_type": "markdown",
      "source": [
        "exercise 2"
      ],
      "metadata": {
        "id": "Fb8C6dJ3dlRV"
      }
    },
    {
      "cell_type": "code",
      "source": [
        "p = 1 / (70-50)\n",
        "\n",
        "mu = (70+50) / 2\n",
        "\n",
        "var = (70-50)**2 / 12\n",
        "\n",
        "sigma = np.sqrt(var)"
      ],
      "metadata": {
        "id": "Ag8JHCF04bT7"
      },
      "execution_count": 15,
      "outputs": []
    },
    {
      "cell_type": "code",
      "source": [
        "p"
      ],
      "metadata": {
        "colab": {
          "base_uri": "https://localhost:8080/"
        },
        "id": "ZwEXq2Tp4bWB",
        "outputId": "2f6f9f1a-fbff-4b19-bd9b-763388f6be1d"
      },
      "execution_count": 16,
      "outputs": [
        {
          "output_type": "execute_result",
          "data": {
            "text/plain": [
              "0.05"
            ]
          },
          "metadata": {},
          "execution_count": 16
        }
      ]
    },
    {
      "cell_type": "code",
      "source": [
        "mu"
      ],
      "metadata": {
        "colab": {
          "base_uri": "https://localhost:8080/"
        },
        "id": "ZlbdMfxI4bYa",
        "outputId": "6dd04055-40e0-4572-9226-0678f3d8ea58"
      },
      "execution_count": 17,
      "outputs": [
        {
          "output_type": "execute_result",
          "data": {
            "text/plain": [
              "60.0"
            ]
          },
          "metadata": {},
          "execution_count": 17
        }
      ]
    },
    {
      "cell_type": "code",
      "source": [
        "var"
      ],
      "metadata": {
        "colab": {
          "base_uri": "https://localhost:8080/"
        },
        "id": "na_Q9ze04bb6",
        "outputId": "5ca55664-fc5c-4e8e-88ba-99ff7f5e3b38"
      },
      "execution_count": 18,
      "outputs": [
        {
          "output_type": "execute_result",
          "data": {
            "text/plain": [
              "33.333333333333336"
            ]
          },
          "metadata": {},
          "execution_count": 18
        }
      ]
    },
    {
      "cell_type": "code",
      "source": [
        "sigma"
      ],
      "metadata": {
        "colab": {
          "base_uri": "https://localhost:8080/"
        },
        "id": "1S-ndImG4NEA",
        "outputId": "a1afb26c-db25-4ed9-adc6-cfa688cca1be"
      },
      "execution_count": 19,
      "outputs": [
        {
          "output_type": "execute_result",
          "data": {
            "text/plain": [
              "5.773502691896258"
            ]
          },
          "metadata": {},
          "execution_count": 19
        }
      ]
    },
    {
      "cell_type": "code",
      "source": [
        "üst=stats.uniform.cdf(70, loc=50, scale=20) -  stats.uniform.cdf(65, loc=50, scale=20)\n",
        "üst"
      ],
      "metadata": {
        "colab": {
          "base_uri": "https://localhost:8080/"
        },
        "id": "MOep19sU4vsU",
        "outputId": "6c6177e4-277f-497c-bcb8-7f93678a772d"
      },
      "execution_count": 21,
      "outputs": [
        {
          "output_type": "execute_result",
          "data": {
            "text/plain": [
              "0.25"
            ]
          },
          "metadata": {},
          "execution_count": 21
        }
      ]
    },
    {
      "cell_type": "code",
      "source": [
        "alt= stats.uniform.cdf(70, loc=50, scale=20) - stats.uniform.cdf(55, loc=50, scale=20)\n",
        "alt"
      ],
      "metadata": {
        "colab": {
          "base_uri": "https://localhost:8080/"
        },
        "id": "1g0vw1JE4vuk",
        "outputId": "f27b8143-b41d-4ad6-cdc3-ba76aaf56dae"
      },
      "execution_count": 22,
      "outputs": [
        {
          "output_type": "execute_result",
          "data": {
            "text/plain": [
              "0.75"
            ]
          },
          "metadata": {},
          "execution_count": 22
        }
      ]
    },
    {
      "cell_type": "code",
      "source": [
        "üst/alt #döngünün 55 ve 65 dakikayı geçme olasılığı "
      ],
      "metadata": {
        "colab": {
          "base_uri": "https://localhost:8080/"
        },
        "id": "8j6zi8kL4vxH",
        "outputId": "7f0c46ce-8f4d-4290-db58-798b6b9be00a"
      },
      "execution_count": 24,
      "outputs": [
        {
          "output_type": "execute_result",
          "data": {
            "text/plain": [
              "0.3333333333333333"
            ]
          },
          "metadata": {},
          "execution_count": 24
        }
      ]
    },
    {
      "cell_type": "markdown",
      "source": [
        "exercise 3"
      ],
      "metadata": {
        "id": "URzMDgAPekLy"
      }
    },
    {
      "cell_type": "code",
      "source": [
        "mean=950\n",
        "std=10"
      ],
      "metadata": {
        "id": "-6z7LF1t4v1d"
      },
      "execution_count": 25,
      "outputs": []
    },
    {
      "cell_type": "code",
      "source": [
        "a = stats.norm.cdf(947, mean, std)"
      ],
      "metadata": {
        "id": "SB3ZbJhu_1Rf"
      },
      "execution_count": 26,
      "outputs": []
    },
    {
      "cell_type": "code",
      "source": [
        "b =stats.norm.cdf(958, mean, std)"
      ],
      "metadata": {
        "id": "FmHMf_cu_1UR"
      },
      "execution_count": 27,
      "outputs": []
    },
    {
      "cell_type": "code",
      "source": [
        "b-a\n"
      ],
      "metadata": {
        "colab": {
          "base_uri": "https://localhost:8080/"
        },
        "id": "Q-svr0Tr_1Z4",
        "outputId": "ac80075e-2df2-4c8b-f5f0-eb87d8449aae"
      },
      "execution_count": 28,
      "outputs": [
        {
          "output_type": "execute_result",
          "data": {
            "text/plain": [
              "0.406056023605556"
            ]
          },
          "metadata": {},
          "execution_count": 28
        }
      ]
    },
    {
      "cell_type": "markdown",
      "source": [
        "2. bölüm (ii)"
      ],
      "metadata": {
        "id": "F-GxTM0dfOLZ"
      }
    },
    {
      "cell_type": "code",
      "source": [
        "z1 = stats.norm.ppf(0.8531)\n",
        "z1"
      ],
      "metadata": {
        "colab": {
          "base_uri": "https://localhost:8080/"
        },
        "id": "PbVqz9JVA9kD",
        "outputId": "81ef997f-26f5-4a2b-c2c7-f91006388503"
      },
      "execution_count": 30,
      "outputs": [
        {
          "output_type": "execute_result",
          "data": {
            "text/plain": [
              "1.0498219096264123"
            ]
          },
          "metadata": {},
          "execution_count": 30
        }
      ]
    },
    {
      "cell_type": "code",
      "source": [
        "C = z1 * 10 + 950\n",
        "C"
      ],
      "metadata": {
        "colab": {
          "base_uri": "https://localhost:8080/"
        },
        "id": "m7UCEA0fA9m1",
        "outputId": "fd74a69a-825d-4414-a29d-4db52ba083b6"
      },
      "execution_count": 31,
      "outputs": [
        {
          "output_type": "execute_result",
          "data": {
            "text/plain": [
              "960.4982190962642"
            ]
          },
          "metadata": {},
          "execution_count": 31
        }
      ]
    },
    {
      "cell_type": "markdown",
      "source": [
        "exercise 4"
      ],
      "metadata": {
        "id": "lgyjJu2Nf-LK"
      }
    },
    {
      "cell_type": "code",
      "source": [
        "ci = 0.90\n",
        "n1 = 36\n",
        "mean = 68\n",
        "std = 3\n",
        "sem = 3 / np.sqrt(n1)#Ortalamanın standart hatasını hesaplama"
      ],
      "metadata": {
        "id": "Uxb8JkXuBdyc"
      },
      "execution_count": 35,
      "outputs": []
    },
    {
      "cell_type": "code",
      "source": [
        "stats.norm.interval(alpha=ci, loc=mean, scale=sem)\n",
        "#Tüm öğrenciler için sınav sonuçları toplam örneğin % 90 tahminle 67.18 ile 68.82 arasında olur."
      ],
      "metadata": {
        "colab": {
          "base_uri": "https://localhost:8080/"
        },
        "id": "c4Rjcj79CHkG",
        "outputId": "143c1805-f7e1-4f64-c242-1786a2688419"
      },
      "execution_count": 36,
      "outputs": [
        {
          "output_type": "execute_result",
          "data": {
            "text/plain": [
              "(67.17757318652427, 68.82242681347573)"
            ]
          },
          "metadata": {},
          "execution_count": 36
        }
      ]
    },
    {
      "cell_type": "markdown",
      "source": [
        "exercise 5"
      ],
      "metadata": {
        "id": "eMor-h7NiANi"
      }
    },
    {
      "cell_type": "code",
      "source": [
        "ci1 = 0.99\n",
        "n2 = 130 # sağlıklı örmekler\n",
        "mean1 = 98.25\n",
        "std1 = 0.73\n",
        "sem1 = 0.73 / np.sqrt(n2)"
      ],
      "metadata": {
        "id": "hbRHOtE-CInG"
      },
      "execution_count": 39,
      "outputs": []
    },
    {
      "cell_type": "code",
      "source": [
        "stats.norm.interval(alpha=ci1, loc=mean1, scale=sem1)# sonuçlar %99 ihtimalle 98.08 ve 98.41 arasındadır dye tahmin ediyoruz."
      ],
      "metadata": {
        "colab": {
          "base_uri": "https://localhost:8080/"
        },
        "id": "HKRJqRaYDJjq",
        "outputId": "2e2be3e8-0cd4-4c5a-dfd4-350f179edfee"
      },
      "execution_count": 40,
      "outputs": [
        {
          "output_type": "execute_result",
          "data": {
            "text/plain": [
              "(98.08508192246582, 98.41491807753418)"
            ]
          },
          "metadata": {},
          "execution_count": 40
        }
      ]
    },
    {
      "cell_type": "markdown",
      "source": [
        "2. bölüm(ii)"
      ],
      "metadata": {
        "id": "sCZ2brF9jEgs"
      }
    },
    {
      "cell_type": "code",
      "source": [
        " #98.6 interval aralığında olmadığı için  ortalama sıcaklığın 98.6 dereceden farklı olduğunu iddia edebiliriz. Yani Fail to reject demek için kanıtlarımız var."
      ],
      "metadata": {
        "id": "8Ul79jhRiBu9"
      },
      "execution_count": null,
      "outputs": []
    }
  ]
}
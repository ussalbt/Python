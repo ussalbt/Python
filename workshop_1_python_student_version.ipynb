{
  "nbformat": 4,
  "nbformat_minor": 0,
  "metadata": {
    "kernelspec": {
      "display_name": "Python 3",
      "language": "python",
      "name": "python3"
    },
    "language_info": {
      "codemirror_mode": {
        "name": "ipython",
        "version": 3
      },
      "file_extension": ".py",
      "mimetype": "text/x-python",
      "name": "python",
      "nbconvert_exporter": "python",
      "pygments_lexer": "ipython3",
      "version": "3.7.4"
    },
    "colab": {
      "name": "workshop_1_python_student_version.ipynb",
      "provenance": [],
      "include_colab_link": true
    }
  },
  "cells": [
    {
      "cell_type": "markdown",
      "metadata": {
        "id": "view-in-github",
        "colab_type": "text"
      },
      "source": [
        "<a href=\"https://colab.research.google.com/github/ussalbt/Python/blob/main/workshop_1_python_student_version.ipynb\" target=\"_parent\"><img src=\"https://colab.research.google.com/assets/colab-badge.svg\" alt=\"Open In Colab\"/></a>"
      ]
    },
    {
      "cell_type": "markdown",
      "metadata": {
        "id": "jRVMGO9ih62b"
      },
      "source": [
        "### Problem 1\n",
        "\n",
        "Write a program that multiplies three numbers entered by the user. Print the output with the format method."
      ]
    },
    {
      "cell_type": "code",
      "metadata": {
        "id": "dJ512Ssnh62g"
      },
      "source": [
        ""
      ],
      "execution_count": null,
      "outputs": []
    },
    {
      "cell_type": "markdown",
      "metadata": {
        "id": "GGDv394Ph62g"
      },
      "source": [
        "### Problem 2\n",
        "\n",
        "Write a program that calculates body mass index from **height** and **weight** entered by the user. \n",
        "\n",
        "Body mass index :  Weight / Height(m) * Height(m)"
      ]
    },
    {
      "cell_type": "code",
      "metadata": {
        "id": "rhgQ_zlRh62h"
      },
      "source": [
        ""
      ],
      "execution_count": null,
      "outputs": []
    },
    {
      "cell_type": "markdown",
      "metadata": {
        "id": "pqQQQ7yPh62h"
      },
      "source": [
        "### Problem 3\n",
        "\n",
        "With your $ 200, how many pieces of material can you get for $ 11 each? How much money do you have left after buying?"
      ]
    },
    {
      "cell_type": "code",
      "metadata": {
        "id": "O0IG_aO_h62h"
      },
      "source": [
        ""
      ],
      "execution_count": null,
      "outputs": []
    },
    {
      "cell_type": "markdown",
      "metadata": {
        "id": "RhixQLJFh62i"
      },
      "source": [
        "### Problem 4\n",
        "\n",
        "Ask the user for two numbers and assign these numbers to variables and replace the values of these variables with each other."
      ]
    },
    {
      "cell_type": "code",
      "metadata": {
        "id": "aV6g1VsWh62i"
      },
      "source": [
        ""
      ],
      "execution_count": null,
      "outputs": []
    },
    {
      "cell_type": "markdown",
      "metadata": {
        "id": "87CyYm-rh62i"
      },
      "source": [
        "### Problem 5\n",
        "\n",
        "Write a Python program to solve (x - y) * (x + y)."
      ]
    },
    {
      "cell_type": "code",
      "metadata": {
        "id": "CZ8UxjFnh62i",
        "colab": {
          "base_uri": "https://localhost:8080/"
        },
        "outputId": "0cdfff4d-9cc9-4cec-c712-09d28df8789a"
      },
      "source": [
        "2+2"
      ],
      "execution_count": null,
      "outputs": [
        {
          "output_type": "execute_result",
          "data": {
            "text/plain": [
              "4"
            ]
          },
          "metadata": {},
          "execution_count": 1
        }
      ]
    },
    {
      "cell_type": "markdown",
      "metadata": {
        "id": "vCDUrq5Rh62j"
      },
      "source": [
        "### Problem 6\n",
        "\n",
        "Get **word**, **seperator** and **repetition** values from the user and print the word on the screen according to the given values. \n",
        "\n",
        "Ex: word = ali sep = / repetition = 3 ----> ali/ali/ali"
      ]
    },
    {
      "cell_type": "code",
      "metadata": {
        "id": "LIaA4jJbh62j"
      },
      "source": [
        ""
      ],
      "execution_count": null,
      "outputs": []
    },
    {
      "cell_type": "markdown",
      "metadata": {
        "id": "j2gCiTtSh62j"
      },
      "source": [
        "### Problem 7\n",
        "\n",
        "Get a sitring and an integer input from the user and get the output shown as in the example.\n",
        "\n",
        "Ex: word = Clarusway n = 3 OUTPUT = waywayway"
      ]
    },
    {
      "cell_type": "code",
      "metadata": {
        "id": "o_WT5-9Sh62j"
      },
      "source": [
        ""
      ],
      "execution_count": null,
      "outputs": []
    },
    {
      "cell_type": "markdown",
      "metadata": {
        "id": "wvm6_hjhh62j"
      },
      "source": [
        "### Problem 8\n",
        "\n",
        "Get a number from the user. \n",
        "\n",
        "If the number is divided by 3 print *Clarus*, if it is divided by 5 print *way*, if it is divided by both 3 and 5 print *Clarusway*. \n",
        "\n",
        "If not, print the number itself."
      ]
    },
    {
      "cell_type": "code",
      "metadata": {
        "id": "rW7huuF3h62k"
      },
      "source": [
        ""
      ],
      "execution_count": null,
      "outputs": []
    },
    {
      "cell_type": "markdown",
      "metadata": {
        "id": "NXq5wHZCh62k"
      },
      "source": [
        "### Problem 9\n",
        "letters = \"abclarusxyz\"\n",
        "- get the word **clarus** in the string\n",
        "- get the word **cba**\n",
        "- print the last eight characters in reverse order"
      ]
    },
    {
      "cell_type": "code",
      "metadata": {
        "id": "WvVZ-Wqjh62k"
      },
      "source": [
        ""
      ],
      "execution_count": null,
      "outputs": []
    },
    {
      "cell_type": "code",
      "metadata": {
        "id": "34nduSDyh62k"
      },
      "source": [
        ""
      ],
      "execution_count": null,
      "outputs": []
    },
    {
      "cell_type": "code",
      "metadata": {
        "id": "NryopFqrh62k"
      },
      "source": [
        ""
      ],
      "execution_count": null,
      "outputs": []
    },
    {
      "cell_type": "markdown",
      "metadata": {
        "id": "bmPbukthh62k"
      },
      "source": [
        "### Problem 10\n",
        "\n",
        "Print **Clarusway is the best** from the elements of the rand_list list.\n",
        "\n",
        "rand_list = [1,[1, 2, \"Clarus\", [2, \"way\"]], \" is the best\"]"
      ]
    },
    {
      "cell_type": "code",
      "metadata": {
        "id": "TTltquy6h62l"
      },
      "source": [
        ""
      ],
      "execution_count": null,
      "outputs": []
    },
    {
      "cell_type": "markdown",
      "metadata": {
        "id": "4IwSA2Eqh62l"
      },
      "source": [
        "### Problem 11\n",
        "\n",
        "Sort the list given below in ascending order. Find the missing number from 1 to 10.\n",
        "\n",
        "num_list = [2, 3, 1, 5, 6, 4, 9, 8, 10]"
      ]
    },
    {
      "cell_type": "code",
      "metadata": {
        "id": "sKxc9CJsh62l"
      },
      "source": [
        ""
      ],
      "execution_count": null,
      "outputs": []
    },
    {
      "cell_type": "markdown",
      "metadata": {
        "id": "1gx1GQA8h62l"
      },
      "source": [
        "### Problem 12\n",
        "\n",
        "Print the oldest person's name?\n",
        "\n",
        "old ={\n",
        "  \"Emma\": 71,\n",
        "  \"Jack\": 45,\n",
        "  \"Amy\": 15,\n",
        "  \"Ben\": 29\n",
        "}"
      ]
    },
    {
      "cell_type": "code",
      "metadata": {
        "id": "ftfT6Ploh62l"
      },
      "source": [
        ""
      ],
      "execution_count": null,
      "outputs": []
    },
    {
      "cell_type": "markdown",
      "metadata": {
        "id": "rW8G0fXXh62l"
      },
      "source": [
        "### Problem 13\n",
        "\n",
        "Write a Python program to sum all the items in a dictionary.\n",
        "\n",
        "my_dict = {'data1':100,'data2':-54,'data3':247}"
      ]
    },
    {
      "cell_type": "code",
      "metadata": {
        "id": "wOn0dYqjh62m"
      },
      "source": [
        ""
      ],
      "execution_count": null,
      "outputs": []
    },
    {
      "cell_type": "markdown",
      "metadata": {
        "id": "TmpfOTohh62m"
      },
      "source": [
        "### Problem 14\n",
        "\n",
        "Write a Python program to compute average of two given lists.\n",
        "\n",
        "nums1 = [1, 1, 3, 4, 4, 5, 6, 7]\n",
        "nums2 = [0, 1, 2, 3, 4, 4, 5, 7, 8]"
      ]
    },
    {
      "cell_type": "code",
      "metadata": {
        "id": "rGqVrSMxh62m"
      },
      "source": [
        ""
      ],
      "execution_count": null,
      "outputs": []
    }
  ]
}